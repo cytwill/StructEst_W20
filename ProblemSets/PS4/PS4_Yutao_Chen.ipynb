{
 "cells": [
  {
   "cell_type": "markdown",
   "metadata": {},
   "source": [
    "# Problem Set 4 -Yutao Chen\n",
    "## Estimating the Brock and Mirman (1972) model by SMM"
   ]
  },
  {
   "cell_type": "code",
   "execution_count": 1,
   "metadata": {},
   "outputs": [
    {
     "name": "stderr",
     "output_type": "stream",
     "text": [
      "F:\\Anaconda3\\lib\\site-packages\\statsmodels\\compat\\pandas.py:49: FutureWarning: The Panel class is removed from pandas. Accessing it from the top-level namespace will also be removed in the next version\n",
      "  data_klasses = (pandas.Series, pandas.DataFrame, pandas.Panel)\n"
     ]
    }
   ],
   "source": [
    "import pandas as pd\n",
    "import numpy as np\n",
    "import scipy as sp\n",
    "import matplotlib.pyplot as plt\n",
    "import matplotlib\n",
    "import itertools\n",
    "import seaborn as sns\n",
    "import math\n",
    "import sympy as sy\n",
    "import warnings\n",
    "import statsmodels.tsa.ar_model as ar\n",
    "warnings.filterwarnings(\"ignore\")"
   ]
  },
  {
   "cell_type": "code",
   "execution_count": 11,
   "metadata": {},
   "outputs": [
    {
     "data": {
      "text/plain": [
       "(100, 5)"
      ]
     },
     "execution_count": 11,
     "metadata": {},
     "output_type": "execute_result"
    }
   ],
   "source": [
    "# data loading\n",
    "macro_data = np.loadtxt('data/NewMacroSeries.txt', dtype=float, delimiter=',')\n",
    "macro_data.shape"
   ]
  },
  {
   "cell_type": "markdown",
   "metadata": {},
   "source": [
    "### (a) Estimate four parameters $(\\alpha, \\rho, \\mu, \\sigma)$ given $\\beta = 0.99$ of the Brock and Mirman (1972) model described by equations (1) through (6) by SMM..."
   ]
  },
  {
   "cell_type": "code",
   "execution_count": 3,
   "metadata": {},
   "outputs": [],
   "source": [
    "# data simulation\n",
    "def data_simulation(paras, basis_draw, initials, S=1000, T=100):\n",
    "    alpha, rho, mu, sigma = paras\n",
    "    beta = 0.99\n",
    "    z0, k1 = initials\n",
    "    # Inverse transform sampling\n",
    "    error_term = sp.stats.norm.ppf(basis_draw, scale=sigma)\n",
    "    \n",
    "    # construct simulated zt, kt\n",
    "    zt = np.zeros([T,S])\n",
    "    zt[0,:] = z0 + error_term[0,:]\n",
    "    kt = np.zeros([T,S])\n",
    "    kt[0,:] = k1\n",
    "    for i in range(1,T):\n",
    "        zt[i,:] = zt[i-1,:]*rho + (1-rho)*mu + error_term[i,:]\n",
    "        kt[i,:] = alpha*beta*np.exp(zt[i-1,:])*(kt[i-1,:])**alpha\n",
    "    \n",
    "    # construct simulated wt, rt, yt ,ct\n",
    "    wt = np.zeros([T,S])\n",
    "    rt = np.zeros([T,S])\n",
    "    yt = np.zeros([T,S])\n",
    "    ct = np.zeros([T,S])\n",
    "    for i in range(T):\n",
    "        wt[i,:] = (1-alpha)*np.exp(zt[i,:])*(kt[i,:])**alpha\n",
    "        rt[i,:] = alpha*np.exp(zt[i,:])*(kt[i,:])**(alpha-1)\n",
    "        yt[i,:] = np.exp(zt[i,:])*(kt[i,:])**alpha\n",
    "        ct[i,:] = rt[i,:]*kt[i,:]+wt[i,:] - (alpha*beta*np.exp(zt[i,:])*(kt[i,:])**alpha) #k_(t+1)\n",
    "\n",
    "    return (zt,ct,kt,wt,rt,yt)"
   ]
  },
  {
   "cell_type": "code",
   "execution_count": 4,
   "metadata": {},
   "outputs": [],
   "source": [
    "# construct moments\n",
    "def data_moments(data):\n",
    "    ct = data[:,0]\n",
    "    kt = data[:,1]\n",
    "    wt = data[:,2]\n",
    "    rt = data[:,3]\n",
    "    yt = data[:,4]\n",
    "    m1 = np.mean(ct)\n",
    "    m2 = np.mean(kt)\n",
    "    m3 = np.mean(ct/yt)\n",
    "    m4 = np.var(yt)\n",
    "    m5 = np.corrcoef(ct[:-1],ct[1:])[0,1]\n",
    "    m6 = np.corrcoef(ct,kt)[0,1]\n",
    "    return np.array((m1,m2,m3,m4,m5,m6))\n",
    "\n",
    "def simulated_moments(simulation):\n",
    "    zt,ct,kt,wt,rt,yt = simulation\n",
    "    S = zt.shape[1]\n",
    "    m1 = np.mean(ct,axis=0)\n",
    "    m2 = np.mean(kt,axis=0)\n",
    "    m3 = np.mean(ct/yt, axis=0)\n",
    "    m4 = np.var(yt, axis=0)\n",
    "    m5 = [np.corrcoef(ct[:-1,i],ct[1:,i])[0,1] for i in range(S)]\n",
    "    m6 = [np.corrcoef(ct[:,i],kt[:,i])[0,1] for i in range(S)]\n",
    "    return np.array((m1,m2,m3,m4,m5,m6))"
   ]
  },
  {
   "cell_type": "code",
   "execution_count": 5,
   "metadata": {},
   "outputs": [],
   "source": [
    "# error vectors and criterion function\n",
    "def err_vec(data, simulation, simple):\n",
    "    Data_Moments = data_moments(data)\n",
    "    Simulated_Moments = simulated_moments(simulation)\n",
    "    Ave_Simulated_Moments = np.mean(Simulated_Moments,axis=1)\n",
    "    if simple:\n",
    "        return Ave_Simulated_Moments-Data_Moments\n",
    "    else:\n",
    "        return (Ave_Simulated_Moments-Data_Moments)/Data_Moments\n",
    "    \n",
    "def criterion(paras, *args):\n",
    "    alpha, rho, mu, sigma = paras\n",
    "    data, basis_draw, simple, W = args\n",
    "    k1 = np.mean(data[:,1])\n",
    "    simulated_data = data_simulation(paras, basis_draw, (mu,k1))\n",
    "    error = err_vec(data, simulated_data, simple)\n",
    "    return error.T @ W @ error"
   ]
  },
  {
   "cell_type": "code",
   "execution_count": 6,
   "metadata": {},
   "outputs": [],
   "source": [
    "# initialize\n",
    "def zt4(alpha, data):\n",
    "    rt = data[:,3]\n",
    "    kt = data[:,1]\n",
    "    return (np.log(rt)-np.log(alpha)-(alpha-1)*np.log(kt))\n",
    "\n",
    "def AR1(zt):\n",
    "    AR = ar.AR(zt)\n",
    "    AR1_result = AR.fit(maxlag=1,trend='c')\n",
    "    rho = AR1_result.params[1]\n",
    "    mu = AR1_result.params[0]/(1-rho)\n",
    "    sigma = (AR1_result.sigma2)**0.5\n",
    "    return rho,mu,sigma"
   ]
  },
  {
   "cell_type": "code",
   "execution_count": 7,
   "metadata": {},
   "outputs": [],
   "source": [
    "# optimization \n",
    "# a matrix of S = 1000 simulations (columns) of T = 100 (rows) from a uniform us,t ∼ U(0, 1)\n",
    "basis_draw = np.random.uniform(0,1,(100,1000))\n",
    "macro_result = []\n",
    "W_identity = np.eye(6)\n",
    "for i in np.arange(0.01,0.99,0.1):\n",
    "    alpha_init = i\n",
    "    z_init = zt4(alpha_init, macro_data)    \n",
    "    rho_init, mu_init, sigma_init = AR1(z_init)\n",
    "    temp_result = sp.optimize.minimize(criterion, np.array((alpha_init, rho_init, mu_init, sigma_init)), \n",
    "                                       args = (macro_data, basis_draw, False, W_identity), \n",
    "                                       options={'maxiter':2000}, method=\"SLSQP\",\n",
    "                                       bounds=[(0.01, 0.99),(-0.99, 0.99),(5, 14),(0.01, 1.1)])\n",
    "    macro_result.append(temp_result)"
   ]
  },
  {
   "cell_type": "code",
   "execution_count": 8,
   "metadata": {},
   "outputs": [
    {
     "data": {
      "text/plain": [
       "     fun: 4.325180126681273e-06\n",
       "     jac: array([0.03355759, 0.00581554, 0.00190708, 0.01324586])\n",
       " message: 'Optimization terminated successfully.'\n",
       "    nfev: 104\n",
       "     nit: 16\n",
       "    njev: 16\n",
       "  status: 0\n",
       " success: True\n",
       "       x: array([0.42102413, 0.92214702, 9.93513811, 0.08844615])"
      ]
     },
     "execution_count": 8,
     "metadata": {},
     "output_type": "execute_result"
    }
   ],
   "source": [
    "identity_result = sorted(macro_result, key=lambda x: x.fun)[0]\n",
    "identity_result"
   ]
  },
  {
   "cell_type": "code",
   "execution_count": 11,
   "metadata": {},
   "outputs": [
    {
     "name": "stdout",
     "output_type": "stream",
     "text": [
      "criterion function value: 4.325180126681273e-06\n",
      "estimated alpha: 0.4210241261677023\n",
      "estimated rho: 0.9221470215474382\n",
      "estimated mu: 9.935138113603411\n",
      "estimated sigma: 0.08844614583724006\n"
     ]
    }
   ],
   "source": [
    "# report estimations and criterion function value\n",
    "print('criterion function value: {}'.format(identity_result.fun))\n",
    "print('estimated alpha: {}'.format(identity_result.x[0]))\n",
    "print('estimated rho: {}'.format(identity_result.x[1]))\n",
    "print('estimated mu: {}'.format(identity_result.x[2]))\n",
    "print('estimated sigma: {}'.format(identity_result.x[3]))"
   ]
  },
  {
   "cell_type": "code",
   "execution_count": 19,
   "metadata": {},
   "outputs": [
    {
     "name": "stdout",
     "output_type": "stream",
     "text": [
      "[ 0.00077862 -0.00070536 -0.00173551  0.00023562  0.00028136 -0.00027336]\n"
     ]
    }
   ],
   "source": [
    "# report error vector  \n",
    "z0 = identity_result.x[2]\n",
    "k1 = np.mean(macro_data[:,1])\n",
    "identity_simulation = data_simulation(identity_result.x, basis_draw, (z0,k1))\n",
    "print(err_vec(macro_data, identity_simulation, False))"
   ]
  },
  {
   "cell_type": "code",
   "execution_count": 17,
   "metadata": {},
   "outputs": [
    {
     "name": "stdout",
     "output_type": "stream",
     "text": [
      "[[ 9.02311178e-05 -2.70246693e-05 -1.51777851e-03  1.41221550e-06]\n",
      " [-2.70246693e-05  2.35024522e-03  2.54801233e-04 -9.99178799e-04]\n",
      " [-1.51777851e-03  2.54801233e-04  2.57630537e-02  3.32075793e-05]\n",
      " [ 1.41221550e-06 -9.99178799e-04  3.32075793e-05  4.30923700e-04]]\n"
     ]
    }
   ],
   "source": [
    "# calculate std matrix for parameter estimators using identity weighting matrix\n",
    "def Jac_matrix(data, basis_draw, paras):\n",
    "    Jac_matrix = np.zeros((6, len(paras)))\n",
    "    h = 1e-8\n",
    "    for i in range(len(paras)):\n",
    "        temp_paras_up = list(paras)\n",
    "        temp_paras_up[i] *= (1+h)\n",
    "        up_simulation = data_simulation(temp_paras_up, basis_draw, (temp_paras_up[2] ,np.mean(data[:,1])))\n",
    "        temp_paras_down = list(paras)\n",
    "        temp_paras_down[i] *= (1-h)\n",
    "        down_simulation = data_simulation(temp_paras_down, basis_draw, (temp_paras_down[2] ,np.mean(data[:,1])))\n",
    "        Jac_matrix[:,i] = (err_vec(data, up_simulation, False) - err_vec(data, down_simulation, False))/(2*h*paras[i])\n",
    "    return Jac_matrix\n",
    "\n",
    "identity_d_err = Jac_matrix(macro_data, basis_draw, tuple(para for para in identity_result.x))\n",
    "identity_std_matrix = (1/1000) * np.linalg.inv(identity_d_err.T @ W_identity @ identity_d_err)\n",
    "print(identity_std_matrix)"
   ]
  },
  {
   "cell_type": "code",
   "execution_count": 39,
   "metadata": {},
   "outputs": [
    {
     "name": "stdout",
     "output_type": "stream",
     "text": [
      "std err for estimated alpha: 0.009499006149067369\n",
      "std err for estimated rho: 0.04847932777731694\n",
      "std err for estimated mu: 0.16050873403502097\n",
      "std err for estimated sigma: 0.02075870178749786\n"
     ]
    }
   ],
   "source": [
    "print(\"std err for estimated alpha: {}\".format(np.sqrt(identity_std_matrix[0,0])))\n",
    "print(\"std err for estimated rho: {}\".format(np.sqrt(identity_std_matrix[1,1])))\n",
    "print(\"std err for estimated mu: {}\".format(np.sqrt(identity_std_matrix[2,2])))\n",
    "print(\"std err for estimated sigma: {}\".format(np.sqrt(identity_std_matrix[3,3])))"
   ]
  },
  {
   "cell_type": "markdown",
   "metadata": {},
   "source": [
    "### (b) Perform the estimation using the two-step estimator for the optimal weighting matrix..."
   ]
  },
  {
   "cell_type": "code",
   "execution_count": 30,
   "metadata": {},
   "outputs": [
    {
     "data": {
      "text/plain": [
       "array([[ 6.58576887e+04, -6.64410000e+04,  5.36371926e+04,\n",
       "         3.69468450e+01, -9.59232285e+03,  8.64990957e+03],\n",
       "       [-6.64410000e+04,  6.70842949e+04, -5.40096555e+04,\n",
       "        -4.68313522e+01,  1.01259819e+04, -9.06581578e+03],\n",
       "       [ 5.36371926e+04, -5.40096555e+04,  4.41833950e+05,\n",
       "         3.60816536e+01,  1.99395665e+05, -1.99871165e+05],\n",
       "       [ 3.69468450e+01, -4.68313522e+01,  3.60816536e+01,\n",
       "         3.88787374e+00, -2.77924314e+01, -2.82533592e+01],\n",
       "       [-9.59232285e+03,  1.01259819e+04,  1.99395665e+05,\n",
       "        -2.77924314e+01,  6.51288680e+05, -6.49033235e+05],\n",
       "       [ 8.64990957e+03, -9.06581578e+03, -1.99871165e+05,\n",
       "        -2.82533592e+01, -6.49033235e+05,  6.48905391e+05]])"
      ]
     },
     "execution_count": 30,
     "metadata": {},
     "output_type": "execute_result"
    }
   ],
   "source": [
    "# construct the error matrix\n",
    "def err_matrix(paras, data, basis_draw, simple):\n",
    "    z0 = paras[2]\n",
    "    k1 = np.mean(data[:,1])\n",
    "    Simulated_Data = data_simulation(paras, basis_draw, (z0,k1))\n",
    "    Data_Moments = data_moments(data)\n",
    "    Simulated_Moments = simulated_moments(Simulated_Data)\n",
    "    error_matrix = []\n",
    "    for i in range(len(Data_Moments)):\n",
    "        if simple:\n",
    "            error_matrix.append(Simulated_Moments[i]-Data_Moments[i]) \n",
    "        else:\n",
    "            error_matrix.append((Simulated_Moments[i]-Data_Moments[i])/Data_Moments[i])\n",
    "    return np.array(error_matrix)\n",
    "\n",
    "# calculate the two-step optimal weighting matrix\n",
    "macro_err_matrix = err_matrix(tuple(para for para in identity_result.x), macro_data, basis_draw, False)\n",
    "macro_VCV = (1/macro_err_matrix.shape[1])*(macro_err_matrix @ macro_err_matrix.T)\n",
    "W_2step = np.linalg.inv(macro_VCV)\n",
    "W_2step"
   ]
  },
  {
   "cell_type": "code",
   "execution_count": 33,
   "metadata": {},
   "outputs": [
    {
     "data": {
      "text/plain": [
       "     fun: 0.6855048859394466\n",
       "     jac: array([ 0.17131718, -0.01272216, -0.0121364 , -0.07730648])\n",
       " message: 'Optimization terminated successfully.'\n",
       "    nfev: 54\n",
       "     nit: 7\n",
       "    njev: 7\n",
       "  status: 0\n",
       " success: True\n",
       "       x: array([0.42070079, 0.92353363, 9.93460106, 0.08721862])"
      ]
     },
     "execution_count": 33,
     "metadata": {},
     "output_type": "execute_result"
    }
   ],
   "source": [
    "# two step estimation\n",
    "twostep_result = sp.optimize.minimize(criterion, np.array([para for para in identity_result.x]), \n",
    "                                      args = (macro_data, basis_draw, False, W_2step), \n",
    "                                      options={'maxiter':2000}, method=\"SLSQP\",\n",
    "                                      bounds=[(0.01, 0.99),(-0.99, 0.99),(5, 14),(0.01, 1.1)])\n",
    "twostep_result"
   ]
  },
  {
   "cell_type": "code",
   "execution_count": 34,
   "metadata": {},
   "outputs": [
    {
     "name": "stdout",
     "output_type": "stream",
     "text": [
      "criterion function value: 0.6855048859394466\n",
      "estimated alpha: 0.4207007863198329\n",
      "estimated rho: 0.9235336260125493\n",
      "estimated mu: 9.93460106040918\n",
      "estimated sigma: 0.08721862232911898\n"
     ]
    }
   ],
   "source": [
    "# report estimations and criterion function value\n",
    "print('criterion function value: {}'.format(twostep_result.fun))\n",
    "print('estimated alpha: {}'.format(twostep_result.x[0]))\n",
    "print('estimated rho: {}'.format(twostep_result.x[1]))\n",
    "print('estimated mu: {}'.format(twostep_result.x[2]))\n",
    "print('estimated sigma: {}'.format(twostep_result.x[3]))"
   ]
  },
  {
   "cell_type": "code",
   "execution_count": 35,
   "metadata": {},
   "outputs": [
    {
     "name": "stdout",
     "output_type": "stream",
     "text": [
      "[-0.00954838 -0.01220246 -0.00118757 -0.0379656   0.000929    0.000351  ]\n"
     ]
    }
   ],
   "source": [
    "# report error vector  \n",
    "z0 = twostep_result.x[2]\n",
    "k1 = np.mean(macro_data[:,1])\n",
    "twostep_simulation = data_simulation(twostep_result.x, basis_draw, (z0,k1))\n",
    "print(err_vec(macro_data, twostep_simulation, False))"
   ]
  },
  {
   "cell_type": "code",
   "execution_count": 38,
   "metadata": {},
   "outputs": [
    {
     "name": "stdout",
     "output_type": "stream",
     "text": [
      "[[ 3.32393725e-10 -1.46399408e-09  4.08686111e-10  1.27883401e-09]\n",
      " [-1.46399408e-09  3.90267714e-06 -7.43519672e-07 -5.43892273e-07]\n",
      " [ 4.08686111e-10 -7.43519672e-07  9.67996704e-06  5.41598558e-08]\n",
      " [ 1.27883401e-09 -5.43892273e-07  5.41598558e-08  4.88013228e-07]]\n"
     ]
    }
   ],
   "source": [
    "# calculate std matrix for twostep parameter estimators\n",
    "twostep_d_err = Jac_matrix(macro_data, basis_draw, tuple(para for para in twostep_result.x))\n",
    "twostep_std_matrix = (1/1000) * np.linalg.inv(twostep_d_err.T @ W_2step @ twostep_d_err)\n",
    "print(twostep_std_matrix)"
   ]
  },
  {
   "cell_type": "code",
   "execution_count": 40,
   "metadata": {},
   "outputs": [
    {
     "name": "stdout",
     "output_type": "stream",
     "text": [
      "std err for estimated alpha: 1.8231668188248857e-05\n",
      "std err for estimated rho: 0.0019755194607543494\n",
      "std err for estimated mu: 0.003111264540347709\n",
      "std err for estimated sigma: 0.0006985794355372651\n"
     ]
    }
   ],
   "source": [
    "print(\"std err for estimated alpha: {}\".format(np.sqrt(twostep_std_matrix[0,0])))\n",
    "print(\"std err for estimated rho: {}\".format(np.sqrt(twostep_std_matrix[1,1])))\n",
    "print(\"std err for estimated mu: {}\".format(np.sqrt(twostep_std_matrix[2,2])))\n",
    "print(\"std err for estimated sigma: {}\".format(np.sqrt(twostep_std_matrix[3,3])))"
   ]
  }
 ],
 "metadata": {
  "kernelspec": {
   "display_name": "Python 3",
   "language": "python",
   "name": "python3"
  },
  "language_info": {
   "codemirror_mode": {
    "name": "ipython",
    "version": 3
   },
   "file_extension": ".py",
   "mimetype": "text/x-python",
   "name": "python",
   "nbconvert_exporter": "python",
   "pygments_lexer": "ipython3",
   "version": "3.7.3"
  }
 },
 "nbformat": 4,
 "nbformat_minor": 4
}
