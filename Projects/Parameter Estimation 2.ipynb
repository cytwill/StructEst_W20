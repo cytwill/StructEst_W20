{
 "cells": [
  {
   "cell_type": "markdown",
   "metadata": {},
   "source": [
    "## ABC Estimation - Approximate Bayesian Computation"
   ]
  },
  {
   "cell_type": "code",
   "execution_count": 1,
   "metadata": {},
   "outputs": [],
   "source": [
    "import ast\n",
    "import numpy as np\n",
    "import scipy as sp\n",
    "import scipy.stats as sts\n",
    "import pandas as pd\n",
    "import matplotlib.pyplot as plt\n",
    "import multiprocessing as mp\n",
    "from broadcastplatform import Platform\n",
    "import time\n",
    "import itertools"
   ]
  },
  {
   "cell_type": "code",
   "execution_count": 2,
   "metadata": {},
   "outputs": [],
   "source": [
    "generic = lambda x:ast.literal_eval(x)\n",
    "conv = {'StartOpinion': generic,\n",
    "             'Density': generic,\n",
    "          'AveOpinion':generic,\n",
    "              'AveStd':generic,\n",
    "            'PosRatio':generic,\n",
    "     'ExpressionRatio':generic}"
   ]
  },
  {
   "cell_type": "code",
   "execution_count": 3,
   "metadata": {
    "scrolled": true
   },
   "outputs": [
    {
     "data": {
      "text/plain": [
       "RoomID                                                        485503\n",
       "Time1                                                     2018-10-21\n",
       "Time2                                                           21:3\n",
       "Population                                                       848\n",
       "StartOpinion       [0.6980678229578181, 0.15185191051103036, -0.3...\n",
       "Density            {1: 464, 2: 183, 3: 67, 4: 47, 5: 23, 6: 11, 7...\n",
       "AveOpinion         [0.29385934591975094, 0.44557168991311513, 0.3...\n",
       "AveStd             [0.5286719173096472, 0.33604725030305344, 0.71...\n",
       "PosRatio           [0.75, 0.8, 0.8333333333333334, 0.5, 0.25, 0.6...\n",
       "ExpressionRatio    [0.0047169811320754715, 0.00589622641509434, 0...\n",
       "Name: 0, dtype: object"
      ]
     },
     "execution_count": 3,
     "metadata": {},
     "output_type": "execute_result"
    }
   ],
   "source": [
    "samples = pd.read_csv('SampleRecord.txt',converters=conv)\n",
    "sample_0 = samples.loc[0]\n",
    "sample_0"
   ]
  },
  {
   "cell_type": "code",
   "execution_count": 4,
   "metadata": {},
   "outputs": [],
   "source": [
    "count_dict = sample_0['Density']\n",
    "count_array = []\n",
    "for k in count_dict:\n",
    "    count_array += (count_dict[k]*[k])\n",
    "density_array = np.array(count_array)*2/len(sample_0['AveOpinion'])"
   ]
  },
  {
   "cell_type": "code",
   "execution_count": 5,
   "metadata": {},
   "outputs": [
    {
     "data": {
      "text/plain": [
       "array([0.00333333, 0.00666667, 0.01      , 0.01333333, 0.01666667,\n",
       "       0.02      , 0.02333333, 0.02666667, 0.03      , 0.03333333,\n",
       "       0.03666667, 0.04      , 0.04333333, 0.04666667, 0.05333333,\n",
       "       0.05666667, 0.10666667, 0.11      , 0.12666667])"
      ]
     },
     "execution_count": 5,
     "metadata": {},
     "output_type": "execute_result"
    }
   ],
   "source": [
    "unique_density = np.unique(density_array)\n",
    "unique_density"
   ]
  },
  {
   "cell_type": "code",
   "execution_count": 6,
   "metadata": {},
   "outputs": [
    {
     "data": {
      "text/plain": [
       "array([0.00333333, 0.00666667, 0.01      , 0.01333333, 0.01666667,\n",
       "       0.02      , 0.02333333, 0.02666667, 0.03      , 0.03333333,\n",
       "       0.03666667, 0.04      , 0.04333333, 0.04666667, 0.05      ,\n",
       "       0.06      , 0.13      ])"
      ]
     },
     "execution_count": 6,
     "metadata": {},
     "output_type": "execute_result"
    }
   ],
   "source": [
    "bin_edges_1 = np.append(unique_density[:14], [unique_density[13]+unique_density[0],unique_density[15]+unique_density[0],\n",
    "                                              unique_density[18]+unique_density[0]])\n",
    "bin_edges_1"
   ]
  },
  {
   "cell_type": "code",
   "execution_count": 7,
   "metadata": {},
   "outputs": [
    {
     "data": {
      "text/plain": [
       "array([0.00333333, 0.00666667, 0.01      , 0.01333333, 0.01666667,\n",
       "       0.02      , 0.02333333, 0.02666667, 0.03      , 0.03333333,\n",
       "       0.03666667, 0.04      , 0.04333333, 0.04666667, 0.05      ,\n",
       "       0.06      ])"
      ]
     },
     "execution_count": 7,
     "metadata": {},
     "output_type": "execute_result"
    }
   ],
   "source": [
    "bin_edges_2 = np.append(unique_density[:14], [unique_density[13]+unique_density[0],unique_density[15]+unique_density[0]])\n",
    "bin_edges_2"
   ]
  },
  {
   "cell_type": "code",
   "execution_count": 8,
   "metadata": {},
   "outputs": [
    {
     "data": {
      "text/plain": [
       "array([0.00333333, 0.00666667, 0.01      , 0.01333333, 0.01666667,\n",
       "       0.02      , 0.02333333, 0.02666667, 0.03      , 0.03333333,\n",
       "       0.03666667, 0.04      , 0.04333333, 0.04666667, 0.05      ])"
      ]
     },
     "execution_count": 8,
     "metadata": {},
     "output_type": "execute_result"
    }
   ],
   "source": [
    "bin_edges_3 = np.append(unique_density[:14], [unique_density[13]+unique_density[0]])\n",
    "bin_edges_3"
   ]
  },
  {
   "cell_type": "code",
   "execution_count": 9,
   "metadata": {
    "scrolled": true
   },
   "outputs": [
    {
     "data": {
      "image/png": "[encoded data removed]",
      "text/plain": [
       "<Figure size 432x288 with 1 Axes>"
      ]
     },
     "metadata": {
      "needs_background": "light"
     },
     "output_type": "display_data"
    }
   ],
   "source": [
    "density_count, density_bins, density_ignored = plt.hist(density_array, bins = bin_edges_1,\n",
    "                                                        density=True, edgecolor='k')\n",
    "plt.xlabel('Expression Rate')\n",
    "plt.ylabel('Density')\n",
    "plt.show()"
   ]
  },
  {
   "cell_type": "code",
   "execution_count": 7,
   "metadata": {},
   "outputs": [
    {
     "name": "stdout",
     "output_type": "stream",
     "text": [
      "     fun: -3593.9850808275582\n",
      "     jac: array([0.00296021, 0.00531006])\n",
      " message: 'Optimization terminated successfully.'\n",
      "    nfev: 149\n",
      "     nit: 22\n",
      "    njev: 22\n",
      "  status: 0\n",
      " success: True\n",
      "       x: array([  0.78114435, 143.250829  ])\n"
     ]
    }
   ],
   "source": [
    "# Using MLE to estimate\n",
    "def NLL(paras, dist, xvals):\n",
    "    '''\n",
    "    --------------------------------------------------------------------\n",
    "    Calculate the negative log-likelihood value from the data with \n",
    "    the assumed distribution\n",
    "    --------------------------------------------------------------------\n",
    "    INPUTS:\n",
    "    paras = (N,) vector, values of parameters \n",
    "    xvals = (N,) vector, values of the random variable\n",
    "    dist  = function (callable), name for the distribution \n",
    "            (should have the member logpdf(x, ...))   \n",
    "    \n",
    "    RETURNS: negative log-likelihood value\n",
    "    --------------------------------------------------------------------\n",
    "    '''\n",
    "    nll = sum(dist.logpdf(xvals, *paras, loc=min(xvals)*(1-0.30)))*(-1) \n",
    "    return nll \n",
    "\n",
    "# calculate the GA MLE to estimate the parameter for entertainment parameters\n",
    "density_mean = np.mean(density_array)\n",
    "density_var = np.var(density_array)\n",
    "alpha_init = (((1-density_mean)/density_var)-(1/density_mean))*(density_mean**2)\n",
    "beta_init = alpha_init*((1/density_mean)-1)\n",
    "Beta_MLE_result_1 = sp.optimize.minimize(NLL, np.array((alpha_init, beta_init)), \n",
    "                                   args = (sp.stats.beta, density_array), \n",
    "                                   tol=1e-50, method=\"SLSQP\", options={'maxiter': 1000}, \n",
    "                                   bounds=[(1e-10,None),(1e-10,None)])\n",
    "print(Beta_MLE_result_1) "
   ]
  },
  {
   "cell_type": "code",
   "execution_count": 11,
   "metadata": {},
   "outputs": [
    {
     "name": "stdout",
     "output_type": "stream",
     "text": [
      "     fun: -3635.6697079098753\n",
      "     jac: array([0.00314331, 0.00320435])\n",
      " message: 'Optimization terminated successfully.'\n",
      "    nfev: 144\n",
      "     nit: 23\n",
      "    njev: 23\n",
      "  status: 0\n",
      " success: True\n",
      "       x: array([  0.84290592, 166.81428907])\n"
     ]
    }
   ],
   "source": [
    "# calculate the GA MLE to estimate the parameter for entertainment parameters\n",
    "density_mean = np.mean(density_array[:-3])\n",
    "density_var = np.var(density_array[:-3])\n",
    "alpha_init = (((1-density_mean)/density_var)-(1/density_mean))*(density_mean**2)\n",
    "beta_init = alpha_init*((1/density_mean)-1)\n",
    "Beta_MLE_result_2 = sp.optimize.minimize(NLL, np.array((alpha_init, beta_init)), \n",
    "                                   args = (sp.stats.beta, density_array[:-3]), \n",
    "                                   tol=1e-50, method=\"SLSQP\", options={'maxiter': 1000}, \n",
    "                                   bounds=[(1e-10,None),(1e-10,None)])\n",
    "print(Beta_MLE_result_2) "
   ]
  },
  {
   "cell_type": "code",
   "execution_count": 12,
   "metadata": {},
   "outputs": [
    {
     "data": {
      "text/plain": [
       "-3590.127684189683"
      ]
     },
     "execution_count": 12,
     "metadata": {},
     "output_type": "execute_result"
    }
   ],
   "source": [
    "NLL(Beta_MLE_result_2.x, sts.beta, density_array)"
   ]
  },
  {
   "cell_type": "code",
   "execution_count": 13,
   "metadata": {},
   "outputs": [
    {
     "data": {
      "text/plain": [
       "     fun: 0.08321708396935486\n",
       "     jac: array([2.92249024e-06, 3.16277146e-06])\n",
       " message: 'Optimization terminated successfully.'\n",
       "    nfev: 297\n",
       "     nit: 45\n",
       "    njev: 45\n",
       "  status: 0\n",
       " success: True\n",
       "       x: array([  1.10345289, 243.09299208])"
      ]
     },
     "execution_count": 13,
     "metadata": {},
     "output_type": "execute_result"
    }
   ],
   "source": [
    "# Using GMM to estimate\n",
    "def GMM_model_moments(alpha, beta, bin_edges): \n",
    "    return sp.stats.beta.cdf(bin_edges[1:], alpha, beta, loc=min(bin_edges)*(1-0.30))-\\\n",
    "           sp.stats.beta.cdf(bin_edges[:-1], alpha, beta, loc=min(bin_edges)*(1-0.30))\n",
    "\n",
    "# define error function\n",
    "def GMM_err_vec(data_moments, alpha, beta, bin_edges, simple):\n",
    "    model_moments = GMM_model_moments(alpha, beta, bin_edges)\n",
    "    if simple:\n",
    "        return  model_moments - data_moments\n",
    "    else:\n",
    "        return (model_moments - data_moments) / data_moments\n",
    "    \n",
    "# define criterion function\n",
    "def GMM_criterion(paras, *args):\n",
    "    alpha, beta = paras\n",
    "    data_moments, bin_edges, simple, W = args\n",
    "    error_vec = GMM_err_vec(data_moments, alpha, beta, bin_edges, simple)\n",
    "    return error_vec.T @ W @ error_vec\n",
    "            \n",
    "density_data_moments_1 = np.histogram(density_array, \n",
    "bins = bin_edges_1, weights=[1/len(density_array)]*len(density_array))[0]\n",
    "                                    \n",
    "W_fixed_1 = np.diag(density_data_moments_1)\n",
    "density_mean = np.mean(density_array)\n",
    "density_var = np.var(density_array)\n",
    "alpha_init = (((1-density_mean)/density_var)-(1/density_mean))*(density_mean**2)\n",
    "beta_init = alpha_init*((1/density_mean)-1)\n",
    "                                    \n",
    "Beta_GMM_result_1 = sp.optimize.minimize(GMM_criterion, np.array((alpha_init, beta_init)),\n",
    "                                args=(density_data_moments_1, bin_edges_1, False, W_fixed_1), \n",
    "                                tol = 1e-50, method=\"SLSQP\", options={'maxiter': 1000}, \n",
    "                                bounds=[(1e-10, None), (1e-10, None)])\n",
    "Beta_GMM_result_1"
   ]
  },
  {
   "cell_type": "code",
   "execution_count": 14,
   "metadata": {},
   "outputs": [
    {
     "data": {
      "text/plain": [
       "-3539.3131523978636"
      ]
     },
     "execution_count": 14,
     "metadata": {},
     "output_type": "execute_result"
    }
   ],
   "source": [
    "NLL(Beta_GMM_result_1.x, sts.beta, density_array)"
   ]
  },
  {
   "cell_type": "code",
   "execution_count": 15,
   "metadata": {},
   "outputs": [
    {
     "data": {
      "text/plain": [
       "     fun: 0.07968083420321395\n",
       "     jac: array([-9.45292413e-07,  1.11665577e-06])\n",
       " message: 'Optimization terminated successfully.'\n",
       "    nfev: 198\n",
       "     nit: 36\n",
       "    njev: 36\n",
       "  status: 0\n",
       " success: True\n",
       "       x: array([  1.10360434, 243.137962  ])"
      ]
     },
     "execution_count": 15,
     "metadata": {},
     "output_type": "execute_result"
    }
   ],
   "source": [
    "density_data_moments_2 = np.histogram(density_array, \n",
    "bins = bin_edges_2, weights=[1/len(density_array)]*len(density_array))[0]\n",
    "                                    \n",
    "W_fixed_2 = np.diag(density_data_moments_2)\n",
    "density_mean = np.mean(density_array)\n",
    "density_var = np.var(density_array)\n",
    "alpha_init = (((1-density_mean)/density_var)-(1/density_mean))*(density_mean**2)\n",
    "beta_init = alpha_init*((1/density_mean)-1)\n",
    "                                    \n",
    "Beta_GMM_result_2 = sp.optimize.minimize(GMM_criterion, np.array((alpha_init, beta_init)),\n",
    "                                args=(density_data_moments_2, bin_edges_2, False, W_fixed_2), \n",
    "                                tol = 1e-50, method=\"SLSQP\", options={'maxiter': 1000}, \n",
    "                                bounds=[(1e-10, None), (1e-10, None)])\n",
    "Beta_GMM_result_2"
   ]
  },
  {
   "cell_type": "code",
   "execution_count": 16,
   "metadata": {},
   "outputs": [
    {
     "data": {
      "text/plain": [
       "-3539.270231443192"
      ]
     },
     "execution_count": 16,
     "metadata": {},
     "output_type": "execute_result"
    }
   ],
   "source": [
    "NLL(Beta_GMM_result_2.x, sts.beta, density_array)"
   ]
  },
  {
   "cell_type": "code",
   "execution_count": 17,
   "metadata": {},
   "outputs": [
    {
     "data": {
      "image/png": "[encoded data removed]",
      "text/plain": [
       "<Figure size 432x288 with 1 Axes>"
      ]
     },
     "metadata": {
      "needs_background": "light"
     },
     "output_type": "display_data"
    }
   ],
   "source": [
    "plt.plot(bin_edges_1, \n",
    "         sp.stats.beta.pdf(bin_edges_1, Beta_GMM_result_1.x[0], Beta_GMM_result_1.x[1],loc=min(bin_edges_1)*(1-0.30)),\n",
    "         linewidth=1.5, \n",
    "         label=r'GMM_1: $\\alpha={}, \\beta={}$'.format(round(Beta_GMM_result_1.x[0],4),\n",
    "                                                    round(Beta_GMM_result_1.x[1],4)))\n",
    "plt.plot(bin_edges_1, \n",
    "         sp.stats.beta.pdf(bin_edges_1, a=Beta_MLE_result_1.x[0], b=Beta_MLE_result_1.x[1], loc=min(bin_edges_1)*(1-0.30)),\n",
    "         linewidth=1.5, \n",
    "         label=r'MLE_1: $\\alpha={}, \\beta={}$'.format(round(Beta_MLE_result_1.x[0],4),\n",
    "                                                    round(Beta_MLE_result_1.x[1],4)))\n",
    "plt.plot(bin_edges_2, \n",
    "         sp.stats.beta.pdf(bin_edges_2, Beta_GMM_result_2.x[0], Beta_GMM_result_2.x[1],loc=min(bin_edges_2)*(1-0.30)),\n",
    "         linewidth=1.5, \n",
    "         label=r'GMM_2: $\\alpha={}, \\beta={}$'.format(round(Beta_GMM_result_2.x[0],4),\n",
    "                                                    round(Beta_GMM_result_2.x[1],4)))\n",
    "plt.plot(bin_edges_2, \n",
    "         sp.stats.beta.pdf(bin_edges_2, a=Beta_MLE_result_2.x[0], b=Beta_MLE_result_2.x[1], loc=min(bin_edges_2)*(1-0.30)),\n",
    "         linewidth=1.5, \n",
    "         label=r'MLE_2: $\\alpha={}, \\beta={}$'.format(round(Beta_MLE_result_2.x[0],4),\n",
    "                                                    round(Beta_MLE_result_2.x[1],4)))\n",
    "density_count, density_bins, density_ignored = plt.hist(density_array, bins = bin_edges_1,\n",
    "                                                        density=True, edgecolor='k')\n",
    "plt.rcParams['figure.figsize'] = (15,6)\n",
    "plt.xlim([0,0.05])\n",
    "plt.xlabel('Expression Rate')\n",
    "plt.ylabel('Density')\n",
    "plt.legend()\n",
    "plt.savefig('estimation pictures/'+'beta estimation')\n",
    "plt.show()"
   ]
  },
  {
   "cell_type": "markdown",
   "metadata": {},
   "source": [
    "MLE_1 yields better results for the estimation of beta's parameter, using it as the given parameter values for the following SMM estimation."
   ]
  },
  {
   "cell_type": "code",
   "execution_count": 46,
   "metadata": {},
   "outputs": [
    {
     "data": {
      "text/plain": [
       "array([-0.02442171, -0.10672438, -0.05058903, -0.0041473 , -0.19895596,\n",
       "       -0.41707381, -0.04224451, -0.25331301,  0.09310206,  0.11354135])"
      ]
     },
     "execution_count": 46,
     "metadata": {},
     "output_type": "execute_result"
    }
   ],
   "source": [
    "np.mean(np.array(sample_0['AveOpinion']).reshape(10,60),axis=1)"
   ]
  },
  {
   "cell_type": "code",
   "execution_count": 47,
   "metadata": {},
   "outputs": [
    {
     "data": {
      "text/plain": [
       "array([0.15920555, 0.22494961, 0.1914122 , 0.20795414, 0.20141752,\n",
       "       0.1644643 , 0.19084625, 0.14604504, 0.1846159 , 0.17493586])"
      ]
     },
     "execution_count": 47,
     "metadata": {},
     "output_type": "execute_result"
    }
   ],
   "source": [
    "np.var(np.array(sample_0['AveOpinion']).reshape(10,60),axis=1)"
   ]
  },
  {
   "cell_type": "code",
   "execution_count": 50,
   "metadata": {},
   "outputs": [
    {
     "data": {
      "text/plain": [
       "array([0.37649168, 0.29556217, 0.20973131, 0.2304645 , 0.35920384,\n",
       "       0.24579874, 0.15716777, 0.31109615, 0.27485226, 0.21133944])"
      ]
     },
     "execution_count": 50,
     "metadata": {},
     "output_type": "execute_result"
    }
   ],
   "source": [
    "np.mean((np.array(sample_0['AveStd'])**2).reshape(10,60),axis=1)"
   ]
  },
  {
   "cell_type": "code",
   "execution_count": 51,
   "metadata": {},
   "outputs": [
    {
     "data": {
      "text/plain": [
       "array([0.4693254 , 0.38980159, 0.4625    , 0.52555556, 0.37361111,\n",
       "       0.2522102 , 0.46587963, 0.34131541, 0.51369048, 0.52728175])"
      ]
     },
     "execution_count": 51,
     "metadata": {},
     "output_type": "execute_result"
    }
   ],
   "source": [
    "np.mean(np.array(sample_0['PosRatio']).reshape(10,60),axis=1)"
   ]
  },
  {
   "cell_type": "code",
   "execution_count": 8,
   "metadata": {},
   "outputs": [
    {
     "data": {
      "text/plain": [
       "(20, 20)"
      ]
     },
     "execution_count": 8,
     "metadata": {},
     "output_type": "execute_result"
    }
   ],
   "source": [
    "# generate identity matrix\n",
    "W_identity = np.eye(2*10)\n",
    "W_identity.shape"
   ]
  },
  {
   "cell_type": "code",
   "execution_count": 24,
   "metadata": {},
   "outputs": [
    {
     "name": "stdout",
     "output_type": "stream",
     "text": [
      "Overwriting estimation.py\n"
     ]
    }
   ],
   "source": [
    "%%writefile estimation.py\n",
    "import ast\n",
    "import pyabc\n",
    "import time\n",
    "import math\n",
    "import numpy as np\n",
    "import scipy as sp\n",
    "import scipy.stats as sts\n",
    "import os\n",
    "import pandas as pd\n",
    "import itertools\n",
    "import matplotlib.pyplot as plt\n",
    "import multiprocessing as mp\n",
    "from broadcastplatform import Platform\n",
    "\n",
    "class estimation(object):\n",
    "    \n",
    "    def __init__(self,W,nr_particles=100,p_mode=1,host_mode='triang',err_mode=0):\n",
    "        self.W = W\n",
    "        self.host_mode = host_mode\n",
    "        self.p_mode = p_mode\n",
    "        self.err_mode = err_mode\n",
    "        # building parameter prior distribution\n",
    "        if self.host_mode == 'triang':\n",
    "            self.prior=pyabc.Distribution(at=pyabc.RV(\"uniform\", 0, 1),rt=pyabc.RV(\"uniform\", 1, 1),ba=pyabc.RV(\"uniform\", 0, 1),\n",
    "                                          bm=pyabc.RV(\"uniform\", -1, 2),bl=pyabc.RV(\"uniform\", -1, 2),ps=pyabc.RV(\"uniform\", 0, 1),\n",
    "                                          pi=pyabc.RV(\"uniform\", 0, 1))\n",
    "        else:\n",
    "            self.prior=pyabc.Distribution(at=pyabc.RV(\"uniform\", 0, 1),rt=pyabc.RV(\"uniform\", 1, 1),ba=pyabc.RV(\"uniform\", 0, 1),\n",
    "                                          bm=pyabc.RV(\"uniform\", -1, 2),bl=pyabc.RV(\"uniform\", 0, 1),ps=pyabc.RV(\"uniform\", 0, 1),\n",
    "                                          ns=pyabc.RV(\"uniform\", 0, 1),pi=pyabc.RV(\"uniform\", 0, 1))\n",
    "        self.nr_particles=nr_particles\n",
    "        self.abc=pyabc.ABCSMC(self.model, self.prior, distance_function=self.distance, \n",
    "                              population_size=pyabc.populationstrategy.ConstantPopulationSize(nr_particles=self.nr_particles),\n",
    "                              eps=pyabc.epsilon.MedianEpsilon(80))\n",
    "        \n",
    "    \n",
    "    def draw_generation(self,sample,s):\n",
    "        t = len(sample['AveOpinion'])\n",
    "        p = int(sample['Population'])\n",
    "        self.draws = []\n",
    "        for i in range(s):\n",
    "            draws_dict = {}\n",
    "            draws_dict['beta_draw'] = sts.uniform.rvs(0,1,p)\n",
    "            draws_dict['bernoulli_draw'] = sts.uniform.rvs(0,1,[p,t])\n",
    "            draws_dict['uniform_draw'] = sts.uniform.rvs(0,1,p)\n",
    "            draws_dict['host_draw'] = sts.uniform.rvs(0,1,t)\n",
    "            self.draws.append(draws_dict)      \n",
    "\n",
    "    def observe(self,index, beta, s=10):\n",
    "        self.sample_index=index\n",
    "        self.beta_a, self.beta_b = beta\n",
    "        generic = lambda x:ast.literal_eval(x)\n",
    "        conv = {'StartOpinion': generic,\n",
    "                'Density': generic,\n",
    "                'AveOpinion':generic,\n",
    "                'AveStd':generic,\n",
    "                'PosRatio':generic,\n",
    "                'ExpressionRatio':generic\n",
    "               }\n",
    "        df = pd.read_csv('SampleRecord.txt',header=0,converters=conv)\n",
    "        self.draw_generation(df.loc[index],s)\n",
    "        self.initial=[df.iloc[index]['Population'],df.iloc[index]['StartOpinion'],len(df.loc[index]['AveOpinion'])]\n",
    "        ave_eo = np.array(df.iloc[index]['AveOpinion'])\n",
    "        var_eo = np.array(df.iloc[index]['AveStd'])**2\n",
    "        self.realdata={\"AveOpinion\":np.mean(np.array(ave_eo).reshape(10,60),axis=1),\n",
    "                       \"AveVar\":np.mean(np.array(var_eo).reshape(10,60),axis=1)  \n",
    "                      }\n",
    "        \n",
    "        \n",
    "    def err_vec(self, data, model):\n",
    "        data_moments = list(data.values())\n",
    "        model_moments = list(model.values())\n",
    "        model_moment_array = np.array(list(itertools.chain(*model_moments)))\n",
    "        data_moment_array = np.array(list(itertools.chain(*data_moments)))\n",
    "        if self.err_mode == 0:\n",
    "            err = data_moment_array - model_moment_array\n",
    "        elif self.err_mode == 1:\n",
    "            err = (data_moment_array - model_moment_array)/data_moment_array\n",
    "        return err\n",
    "\n",
    "        \n",
    "    #distance function: similar to the criterion function in SMM\n",
    "    def distance(self, data, model):\n",
    "        error = self.err_vec(data, model)    \n",
    "        return error.T @ self.W @ error\n",
    "\n",
    "    #setting constraints\n",
    "    def constraints(self,parameters):\n",
    "        cons = []\n",
    "        cons.append(1.0-parameters['ps']-parameters['pi'])\n",
    "        if self.host_mode=='triang':\n",
    "            cons.append(parameters['bm']-parameters['bl'])\n",
    "        for c in cons:\n",
    "            if c < 0:\n",
    "                return False\n",
    "        return True\n",
    "    \n",
    "    def simulation(self, draw, parameters):\n",
    "        beta_draw = draw['beta_draw']\n",
    "        bernoulli_draw = draw['bernoulli_draw']\n",
    "        uniform_draw = draw['uniform_draw']\n",
    "        host_draw = draw['host_draw']\n",
    "        tempbp=Platform(beta_draw, bernoulli_draw, uniform_draw, host_draw,\n",
    "                        at=parameters['at'],rt=parameters['rt'],ba=parameters['ba'],bm=parameters['bm'],\n",
    "                        bl=parameters['bl'],ps=parameters['ps'],pi=parameters['pi'],\n",
    "                        beta_a=self.beta_a, beta_b=self.beta_b, p_mode=self.p_mode, host_mode=self.host_mode,\n",
    "                        te=self.initial[2],p=self.initial[0])\n",
    "        tempbp.Evolution(self.initial[1])\n",
    "        ave_eo, var_eo = tempbp.AveExpressedSeries(show=False)\n",
    "        return {\"AveOpinion\":np.mean(np.array(ave_eo).reshape(10,60),axis=1),\n",
    "                \"AveVar\":np.mean(np.array(var_eo).reshape(10,60),axis=1)\n",
    "                #\"PosRatioSeries\":np.array(tempbp.PosRatioSeries(show=False)),\n",
    "                #\"ExpressionRatioSeries\":np.array(tempbp.ExpressionRatioSeries(show=False)),\n",
    "               }\n",
    "    \n",
    "    #simulation model\n",
    "    def model(self, parameters):\n",
    "        if self.constraints(parameters)==True:\n",
    "            rep_paras = [(draw, parameters) for draw in self.draws]\n",
    "            replication=list(itertools.starmap(self.simulation,rep_paras))\n",
    "            statistics={\"AveOpinion\":np.mean([x[\"AveOpinion\"] for x in replication],axis=0),\n",
    "                        \"AveVar\":np.mean([x[\"AveVar\"] for x in replication],axis=0),\n",
    "                       }\n",
    "        else:\n",
    "            statistics={\"AveOpinion\":np.array([3]*10),\n",
    "                        \"AveVar\":np.array([3]*10)}\n",
    "        return statistics\n",
    "\n",
    "    def estimate(self,path=\"sqlite:///estimation.db\",minimum_epsilon=0.0,max_nr_populations=20):\n",
    "        if self.realdata==None:\n",
    "            print(\"observe the real data!\")\n",
    "        else:\n",
    "            self.minimum_epsilon = minimum_epsilon\n",
    "            self.max_nr_populations = max_nr_populations\n",
    "            self.abc.new(path,self.realdata)\n",
    "            self.history = self.abc.run(minimum_epsilon=self.minimum_epsilon, max_nr_populations=self.max_nr_populations)\n",
    "            \n",
    "    def visualize(self):\n",
    "        conversion={'at':r'$d_1$','rt':r'$d_2$',\n",
    "                    'ba':r'$b$','bl':r'$l$','bm':r'$m$',\n",
    "                    'ps':r'$k_P$','pi':r'$c$'}\n",
    "        df, w = self.history.get_distribution(m=0)\n",
    "        self.result={}\n",
    "        n_paras = len(df.columns)\n",
    "        fig = plt.figure(figsize=[20,8]) \n",
    "        for index in range(n_paras):\n",
    "            i = df.columns[index]\n",
    "            weighted_ave = np.average(df[i],weights=w)\n",
    "            weighted_var = np.average((np.array(df[i])-weighted_ave)**2,weights=w)\n",
    "            self.result[i]=(weighted_ave, weighted_var**0.5)\n",
    "            ax = fig.add_subplot(math.ceil(n_paras/4),4,index)\n",
    "            pyabc.visualization.plot_kde_1d_highlevel(self.history, x=i, ax=ax)\n",
    "            ax.set_xlabel(conversion[i])\n",
    "        print(self.result)\n",
    "        plt.savefig('estimation pictures/'+'SMM-ABC estimation')\n",
    "        plt.show()\n",
    "    \n",
    "    def compare(self):\n",
    "        if self.result!={}:\n",
    "            parameters={}\n",
    "            df=pd.read_csv('CompareResults.txt')\n",
    "            CompareRow={'sample_index':self.sample_index,'nr_particles':self.nr_particles,\n",
    "                        'minimum_epsilon': self.minimum_epsilon,'max_nr_populations':self.max_nr_populations}\n",
    "            for i in self.result.keys():\n",
    "                parameters[i]=self.result[i][0]\n",
    "            simulation=self.model(parameters)\n",
    "            real=self.realdata\n",
    "            #Statistical-test\n",
    "            for j in simulation.keys():\n",
    "                print(j+':')\n",
    "                print(st.ks_2samp(simulation[j],real[j]))\n",
    "                CompareRow['ks_2samp']=st.ks_2samp(simulation[j],real[j])\n",
    "                print(st.pearsonr(simulation[j],real[j]))\n",
    "                CompareRow['pearsonr']=st.pearsonr(simulation[j],real[j])\n",
    "                print(st.ttest_rel(simulation[j],real[j])) \n",
    "                CompareRow['ttest_rel']=st.ttest_rel(simulation[j],real[j])\n",
    "            df=df.append(CompareRow,ignore_index=True)\n",
    "            df.to_csv('CompareResults.txt',mode='w+',index=False)\n",
    "        else:\n",
    "            print(\"need estimation results!\")"
   ]
  },
  {
   "cell_type": "code",
   "execution_count": null,
   "metadata": {
    "scrolled": true
   },
   "outputs": [
    {
     "name": "stderr",
     "output_type": "stream",
     "text": [
      "INFO:Sampler:Parallelizing the sampling on 56 cores.\n",
      "INFO:History:Start <ABCSMC(id=1, start_time=2020-03-20 15:00:19.302179, end_time=None)>\n",
      "INFO:ABC:t: 0, eps: 80.\n",
      "INFO:ABC:Acceptance rate: 100 / 715 = 1.3986e-01, ESS=1.0000e+02.\n",
      "INFO:ABC:t: 1, eps: 0.8015483657860141.\n",
      "INFO:ABC:Acceptance rate: 100 / 363 = 2.7548e-01, ESS=1.6096e+01.\n",
      "INFO:ABC:t: 2, eps: 0.5184298216509201.\n",
      "INFO:ABC:Acceptance rate: 100 / 382 = 2.6178e-01, ESS=3.0914e+01.\n",
      "INFO:ABC:t: 3, eps: 0.4207048906540547.\n",
      "INFO:ABC:Acceptance rate: 100 / 412 = 2.4272e-01, ESS=2.9007e+01.\n",
      "INFO:ABC:t: 4, eps: 0.3937738784860964.\n",
      "INFO:ABC:Acceptance rate: 100 / 650 = 1.5385e-01, ESS=2.9987e+01.\n",
      "INFO:ABC:t: 5, eps: 0.361986064576918.\n",
      "INFO:ABC:Acceptance rate: 100 / 511 = 1.9569e-01, ESS=4.1029e+01.\n",
      "INFO:ABC:t: 6, eps: 0.33193001562671937.\n",
      "INFO:ABC:Acceptance rate: 100 / 521 = 1.9194e-01, ESS=1.9178e+01.\n",
      "INFO:ABC:t: 7, eps: 0.30759719914193523.\n",
      "INFO:ABC:Acceptance rate: 100 / 869 = 1.1507e-01, ESS=2.0425e+01.\n",
      "INFO:ABC:t: 8, eps: 0.29456370888248123.\n",
      "INFO:ABC:Acceptance rate: 100 / 860 = 1.1628e-01, ESS=3.2691e+01.\n",
      "INFO:ABC:t: 9, eps: 0.2827046808280559.\n",
      "INFO:ABC:Acceptance rate: 100 / 1406 = 7.1124e-02, ESS=2.9073e+01.\n",
      "INFO:ABC:t: 10, eps: 0.27744547364988864.\n",
      "INFO:ABC:Acceptance rate: 100 / 2146 = 4.6598e-02, ESS=4.8870e+01.\n",
      "INFO:ABC:t: 11, eps: 0.2702221405387574.\n"
     ]
    }
   ],
   "source": [
    "import importlib\n",
    "import estimation\n",
    "importlib.reload(estimation)\n",
    "\n",
    "if __name__ == \"__main__\":\n",
    "    test = estimation.estimation(\n",
    "        W_identity, nr_particles=100, p_mode=1, host_mode='triang', err_mode=0)\n",
    "    test.observe(0, Beta_MLE_result_1.x, s=10)\n",
    "    test.estimate(minimum_epsilon=0.1, max_nr_populations=20)"
   ]
  },
  {
   "cell_type": "code",
   "execution_count": null,
   "metadata": {},
   "outputs": [],
   "source": [
    "test.visualize()"
   ]
  },
  {
   "cell_type": "code",
   "execution_count": 3,
   "metadata": {},
   "outputs": [],
   "source": [
    "import pyabc\n",
    "\n",
    "history = pyabc.History(\"sqlite:///estimation.db\")"
   ]
  },
  {
   "cell_type": "code",
   "execution_count": 9,
   "metadata": {},
   "outputs": [
    {
     "name": "stdout",
     "output_type": "stream",
     "text": [
      "{'at': (0.4031094078960007, 0.09415061306485373), 'ba': (0.31031977275165473, 0.32251897560434445), 'bl': (-0.3683471793011184, 0.43069782373766796), 'bm': (0.23941629383902313, 0.46491970510848113), 'pi': (0.18400479782818133, 0.14005914214511286), 'ps': (0.24899543348828165, 0.18934808900825545), 'rt': (1.1663005852416355, 0.07587230310748301)}\n"
     ]
    },
    {
     "data": {
      "image/png": "[encoded data removed]",
      "text/plain": [
       "<Figure size 1440x576 with 7 Axes>"
      ]
     },
     "metadata": {
      "needs_background": "light"
     },
     "output_type": "display_data"
    }
   ],
   "source": [
    "import math\n",
    "conversion={'at':r'$d_1$','rt':r'$d_2$',\n",
    "            'ba':r'$b$','bl':r'$l$','bm':r'$m$',\n",
    "            'ps':r'$k_P$','pi':r'$c$'}\n",
    "df, w = history.get_distribution(m=0)\n",
    "result={}\n",
    "n_paras = len(df.columns)\n",
    "fig = plt.figure(figsize=[20,8]) \n",
    "for index in range(n_paras):\n",
    "    i = df.columns[index]\n",
    "    weighted_ave = np.average(df[i],weights=w)\n",
    "    weighted_var = np.average((np.array(df[i])-weighted_ave)**2,weights=w)\n",
    "    result[i]=(weighted_ave, weighted_var**0.5)\n",
    "    ax = fig.add_subplot(math.ceil(n_paras/4),4,index+1)\n",
    "    pyabc.visualization.plot_kde_1d_highlevel(history, x=i, ax=ax)\n",
    "    ax.set_xlabel(conversion[i])\n",
    "print(result)\n",
    "plt.savefig('estimation pictures/'+'SMM-ABC estimation')\n",
    "plt.show()"
   ]
  }
 ],
 "metadata": {
  "kernelspec": {
   "display_name": "Python 3",
   "language": "python",
   "name": "python3"
  },
  "language_info": {
   "codemirror_mode": {
    "name": "ipython",
    "version": 3
   },
   "file_extension": ".py",
   "mimetype": "text/x-python",
   "name": "python",
   "nbconvert_exporter": "python",
   "pygments_lexer": "ipython3",
   "version": "3.7.3"
  }
 },
 "nbformat": 4,
 "nbformat_minor": 4
}
