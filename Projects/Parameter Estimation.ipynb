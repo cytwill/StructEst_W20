{
 "cells": [
  {
   "cell_type": "markdown",
   "metadata": {},
   "source": [
    "## SMM Estimation - Simulated Method of Moments"
   ]
  },
  {
   "cell_type": "code",
   "execution_count": 1,
   "metadata": {},
   "outputs": [],
   "source": [
    "import ast\n",
    "import numpy as np\n",
    "import scipy as sp\n",
    "import scipy.stats as sts\n",
    "import pandas as pd\n",
    "import matplotlib.pyplot as plt\n",
    "import multiprocessing as mp\n",
    "from broadcastplatform import Platform\n",
    "import time\n",
    "import itertools"
   ]
  },
  {
   "cell_type": "code",
   "execution_count": 2,
   "metadata": {},
   "outputs": [],
   "source": [
    "generic = lambda x:ast.literal_eval(x)\n",
    "conv = {'StartOpinion': generic,\n",
    "             'Density': generic,\n",
    "          'AveOpinion':generic,\n",
    "              'AveStd':generic,\n",
    "            'PosRatio':generic,\n",
    "     'ExpressionRatio':generic}"
   ]
  },
  {
   "cell_type": "code",
   "execution_count": 3,
   "metadata": {
    "scrolled": true
   },
   "outputs": [
    {
     "data": {
      "text/plain": [
       "RoomID                                                        485503\n",
       "Time1                                                     2018-10-21\n",
       "Time2                                                           21:3\n",
       "Population                                                       848\n",
       "StartOpinion       [0.6980678229578181, 0.15185191051103036, -0.3...\n",
       "Density            {1: 464, 2: 183, 3: 67, 4: 47, 5: 23, 6: 11, 7...\n",
       "AveOpinion         [0.29385934591975094, 0.44557168991311513, 0.3...\n",
       "AveStd             [0.5286719173096472, 0.33604725030305344, 0.71...\n",
       "PosRatio           [0.75, 0.8, 0.8333333333333334, 0.5, 0.25, 0.6...\n",
       "ExpressionRatio    [0.0047169811320754715, 0.00589622641509434, 0...\n",
       "Name: 0, dtype: object"
      ]
     },
     "execution_count": 3,
     "metadata": {},
     "output_type": "execute_result"
    }
   ],
   "source": [
    "samples = pd.read_csv('SampleRecord.txt',converters=conv)\n",
    "sample_0 = samples.loc[0]\n",
    "sample_0"
   ]
  },
  {
   "cell_type": "code",
   "execution_count": 4,
   "metadata": {},
   "outputs": [],
   "source": [
    "count_dict = sample_0['Density']\n",
    "count_array = []\n",
    "for k in count_dict:\n",
    "    count_array += (count_dict[k]*[k])\n",
    "density_array = np.array(count_array)*2/len(sample_0['AveOpinion'])"
   ]
  },
  {
   "cell_type": "code",
   "execution_count": 5,
   "metadata": {},
   "outputs": [
    {
     "data": {
      "text/plain": [
       "array([0.00333333, 0.00666667, 0.01      , 0.01333333, 0.01666667,\n",
       "       0.02      , 0.02333333, 0.02666667, 0.03      , 0.03333333,\n",
       "       0.03666667, 0.04      , 0.04333333, 0.04666667, 0.05333333,\n",
       "       0.05666667, 0.10666667, 0.11      , 0.12666667])"
      ]
     },
     "execution_count": 5,
     "metadata": {},
     "output_type": "execute_result"
    }
   ],
   "source": [
    "unique_density = np.unique(density_array)\n",
    "unique_density"
   ]
  },
  {
   "cell_type": "code",
   "execution_count": 6,
   "metadata": {},
   "outputs": [
    {
     "data": {
      "text/plain": [
       "array([0.00333333, 0.00666667, 0.01      , 0.01333333, 0.01666667,\n",
       "       0.02      , 0.02333333, 0.02666667, 0.03      , 0.03333333,\n",
       "       0.03666667, 0.04      , 0.04333333, 0.04666667, 0.05      ,\n",
       "       0.06      , 0.13      ])"
      ]
     },
     "execution_count": 6,
     "metadata": {},
     "output_type": "execute_result"
    }
   ],
   "source": [
    "bin_edges_1 = np.append(unique_density[:14], [unique_density[13]+unique_density[0],unique_density[15]+unique_density[0],\n",
    "                                              unique_density[18]+unique_density[0]])\n",
    "bin_edges_1"
   ]
  },
  {
   "cell_type": "code",
   "execution_count": 7,
   "metadata": {},
   "outputs": [
    {
     "data": {
      "text/plain": [
       "array([0.00333333, 0.00666667, 0.01      , 0.01333333, 0.01666667,\n",
       "       0.02      , 0.02333333, 0.02666667, 0.03      , 0.03333333,\n",
       "       0.03666667, 0.04      , 0.04333333, 0.04666667, 0.05      ,\n",
       "       0.06      ])"
      ]
     },
     "execution_count": 7,
     "metadata": {},
     "output_type": "execute_result"
    }
   ],
   "source": [
    "bin_edges_2 = np.append(unique_density[:14], [unique_density[13]+unique_density[0],unique_density[15]+unique_density[0]])\n",
    "bin_edges_2"
   ]
  },
  {
   "cell_type": "code",
   "execution_count": 8,
   "metadata": {},
   "outputs": [
    {
     "data": {
      "text/plain": [
       "array([0.00333333, 0.00666667, 0.01      , 0.01333333, 0.01666667,\n",
       "       0.02      , 0.02333333, 0.02666667, 0.03      , 0.03333333,\n",
       "       0.03666667, 0.04      , 0.04333333, 0.04666667, 0.05      ])"
      ]
     },
     "execution_count": 8,
     "metadata": {},
     "output_type": "execute_result"
    }
   ],
   "source": [
    "bin_edges_3 = np.append(unique_density[:14], [unique_density[13]+unique_density[0]])\n",
    "bin_edges_3"
   ]
  },
  {
   "cell_type": "code",
   "execution_count": 9,
   "metadata": {
    "scrolled": true
   },
   "outputs": [
    {
     "data": {
      "image/png": "[encoded data removed]",
      "text/plain": [
       "<Figure size 432x288 with 1 Axes>"
      ]
     },
     "metadata": {
      "needs_background": "light"
     },
     "output_type": "display_data"
    }
   ],
   "source": [
    "density_count, density_bins, density_ignored = plt.hist(density_array, bins = bin_edges_1,\n",
    "                                                        density=True, edgecolor='k')\n",
    "plt.xlabel('Expression Rate')\n",
    "plt.ylabel('Density')\n",
    "plt.show()"
   ]
  },
  {
   "cell_type": "code",
   "execution_count": 7,
   "metadata": {},
   "outputs": [
    {
     "name": "stdout",
     "output_type": "stream",
     "text": [
      "     fun: -3593.9850808275582\n",
      "     jac: array([0.00296021, 0.00531006])\n",
      " message: 'Optimization terminated successfully.'\n",
      "    nfev: 149\n",
      "     nit: 22\n",
      "    njev: 22\n",
      "  status: 0\n",
      " success: True\n",
      "       x: array([  0.78114435, 143.250829  ])\n"
     ]
    }
   ],
   "source": [
    "# Using MLE to estimate\n",
    "def NLL(paras, dist, xvals):\n",
    "    '''\n",
    "    --------------------------------------------------------------------\n",
    "    Calculate the negative log-likelihood value from the data with \n",
    "    the assumed distribution\n",
    "    --------------------------------------------------------------------\n",
    "    INPUTS:\n",
    "    paras = (N,) vector, values of parameters \n",
    "    xvals = (N,) vector, values of the random variable\n",
    "    dist  = function (callable), name for the distribution \n",
    "            (should have the member logpdf(x, ...))   \n",
    "    \n",
    "    RETURNS: negative log-likelihood value\n",
    "    --------------------------------------------------------------------\n",
    "    '''\n",
    "    nll = sum(dist.logpdf(xvals, *paras, loc=min(xvals)*(1-0.30)))*(-1) \n",
    "    return nll \n",
    "\n",
    "# calculate the GA MLE to estimate the parameter for entertainment parameters\n",
    "density_mean = np.mean(density_array)\n",
    "density_var = np.var(density_array)\n",
    "alpha_init = (((1-density_mean)/density_var)-(1/density_mean))*(density_mean**2)\n",
    "beta_init = alpha_init*((1/density_mean)-1)\n",
    "Beta_MLE_result_1 = sp.optimize.minimize(NLL, np.array((alpha_init, beta_init)), \n",
    "                                   args = (sp.stats.beta, density_array), \n",
    "                                   tol=1e-50, method=\"SLSQP\", options={'maxiter': 1000}, \n",
    "                                   bounds=[(1e-10,None),(1e-10,None)])\n",
    "print(Beta_MLE_result_1) "
   ]
  },
  {
   "cell_type": "code",
   "execution_count": 11,
   "metadata": {},
   "outputs": [
    {
     "name": "stdout",
     "output_type": "stream",
     "text": [
      "     fun: -3635.6697079098753\n",
      "     jac: array([0.00314331, 0.00320435])\n",
      " message: 'Optimization terminated successfully.'\n",
      "    nfev: 144\n",
      "     nit: 23\n",
      "    njev: 23\n",
      "  status: 0\n",
      " success: True\n",
      "       x: array([  0.84290592, 166.81428907])\n"
     ]
    }
   ],
   "source": [
    "# calculate the GA MLE to estimate the parameter for entertainment parameters\n",
    "density_mean = np.mean(density_array[:-3])\n",
    "density_var = np.var(density_array[:-3])\n",
    "alpha_init = (((1-density_mean)/density_var)-(1/density_mean))*(density_mean**2)\n",
    "beta_init = alpha_init*((1/density_mean)-1)\n",
    "Beta_MLE_result_2 = sp.optimize.minimize(NLL, np.array((alpha_init, beta_init)), \n",
    "                                   args = (sp.stats.beta, density_array[:-3]), \n",
    "                                   tol=1e-50, method=\"SLSQP\", options={'maxiter': 1000}, \n",
    "                                   bounds=[(1e-10,None),(1e-10,None)])\n",
    "print(Beta_MLE_result_2) "
   ]
  },
  {
   "cell_type": "code",
   "execution_count": 19,
   "metadata": {},
   "outputs": [
    {
     "data": {
      "text/plain": [
       "-3590.127684189683"
      ]
     },
     "execution_count": 19,
     "metadata": {},
     "output_type": "execute_result"
    }
   ],
   "source": [
    "NLL(Beta_MLE_result_2.x, sts.beta, density_array)"
   ]
  },
  {
   "cell_type": "code",
   "execution_count": 12,
   "metadata": {},
   "outputs": [
    {
     "data": {
      "text/plain": [
       "     fun: 0.08321708396935486\n",
       "     jac: array([2.92249024e-06, 3.16277146e-06])\n",
       " message: 'Optimization terminated successfully.'\n",
       "    nfev: 297\n",
       "     nit: 45\n",
       "    njev: 45\n",
       "  status: 0\n",
       " success: True\n",
       "       x: array([  1.10345289, 243.09299208])"
      ]
     },
     "execution_count": 12,
     "metadata": {},
     "output_type": "execute_result"
    }
   ],
   "source": [
    "# Using GMM to estimate\n",
    "def GMM_model_moments(alpha, beta, bin_edges): \n",
    "    return sp.stats.beta.cdf(bin_edges[1:], alpha, beta, loc=min(bin_edges)*(1-0.30))-\\\n",
    "           sp.stats.beta.cdf(bin_edges[:-1], alpha, beta, loc=min(bin_edges)*(1-0.30))\n",
    "\n",
    "# define error function\n",
    "def GMM_err_vec(data_moments, alpha, beta, bin_edges, simple):\n",
    "    model_moments = GMM_model_moments(alpha, beta, bin_edges)\n",
    "    if simple:\n",
    "        return  model_moments - data_moments\n",
    "    else:\n",
    "        return (model_moments - data_moments) / data_moments\n",
    "    \n",
    "# define criterion function\n",
    "def GMM_criterion(paras, *args):\n",
    "    alpha, beta = paras\n",
    "    data_moments, bin_edges, simple, W = args\n",
    "    error_vec = GMM_err_vec(data_moments, alpha, beta, bin_edges, simple)\n",
    "    return error_vec.T @ W @ error_vec\n",
    "            \n",
    "density_data_moments_1 = np.histogram(density_array, \n",
    "bins = bin_edges_1, weights=[1/len(density_array)]*len(density_array))[0]\n",
    "                                    \n",
    "W_fixed_1 = np.diag(density_data_moments_1)\n",
    "density_mean = np.mean(density_array)\n",
    "density_var = np.var(density_array)\n",
    "alpha_init = (((1-density_mean)/density_var)-(1/density_mean))*(density_mean**2)\n",
    "beta_init = alpha_init*((1/density_mean)-1)\n",
    "                                    \n",
    "Beta_GMM_result_1 = sp.optimize.minimize(GMM_criterion, np.array((alpha_init, beta_init)),\n",
    "                                args=(density_data_moments_1, bin_edges_1, False, W_fixed_1), \n",
    "                                tol = 1e-50, method=\"SLSQP\", options={'maxiter': 1000}, \n",
    "                                bounds=[(1e-10, None), (1e-10, None)])\n",
    "Beta_GMM_result_1"
   ]
  },
  {
   "cell_type": "code",
   "execution_count": 13,
   "metadata": {},
   "outputs": [
    {
     "data": {
      "text/plain": [
       "-3539.3131523978636"
      ]
     },
     "execution_count": 13,
     "metadata": {},
     "output_type": "execute_result"
    }
   ],
   "source": [
    "NLL(Beta_GMM_result_1.x, sts.beta, density_array)"
   ]
  },
  {
   "cell_type": "code",
   "execution_count": 20,
   "metadata": {},
   "outputs": [
    {
     "data": {
      "text/plain": [
       "     fun: 0.07968083420321395\n",
       "     jac: array([-9.45292413e-07,  1.11665577e-06])\n",
       " message: 'Optimization terminated successfully.'\n",
       "    nfev: 198\n",
       "     nit: 36\n",
       "    njev: 36\n",
       "  status: 0\n",
       " success: True\n",
       "       x: array([  1.10360434, 243.137962  ])"
      ]
     },
     "execution_count": 20,
     "metadata": {},
     "output_type": "execute_result"
    }
   ],
   "source": [
    "density_data_moments_2 = np.histogram(density_array, \n",
    "bins = bin_edges_2, weights=[1/len(density_array)]*len(density_array))[0]\n",
    "                                    \n",
    "W_fixed_2 = np.diag(density_data_moments_2)\n",
    "density_mean = np.mean(density_array)\n",
    "density_var = np.var(density_array)\n",
    "alpha_init = (((1-density_mean)/density_var)-(1/density_mean))*(density_mean**2)\n",
    "beta_init = alpha_init*((1/density_mean)-1)\n",
    "                                    \n",
    "Beta_GMM_result_2 = sp.optimize.minimize(GMM_criterion, np.array((alpha_init, beta_init)),\n",
    "                                args=(density_data_moments_2, bin_edges_2, False, W_fixed_2), \n",
    "                                tol = 1e-50, method=\"SLSQP\", options={'maxiter': 1000}, \n",
    "                                bounds=[(1e-10, None), (1e-10, None)])\n",
    "Beta_GMM_result_2"
   ]
  },
  {
   "cell_type": "code",
   "execution_count": 21,
   "metadata": {},
   "outputs": [
    {
     "data": {
      "text/plain": [
       "-3539.270231443192"
      ]
     },
     "execution_count": 21,
     "metadata": {},
     "output_type": "execute_result"
    }
   ],
   "source": [
    "NLL(Beta_GMM_result_2.x, sts.beta, density_array)"
   ]
  },
  {
   "cell_type": "code",
   "execution_count": 36,
   "metadata": {},
   "outputs": [
    {
     "data": {
      "image/png": "[encoded data removed]",
      "text/plain": [
       "<Figure size 720x432 with 1 Axes>"
      ]
     },
     "metadata": {
      "needs_background": "light"
     },
     "output_type": "display_data"
    }
   ],
   "source": [
    "plt.plot(bin_edges_1, \n",
    "         sp.stats.beta.pdf(bin_edges_1, Beta_GMM_result_1.x[0], Beta_GMM_result_1.x[1],loc=min(bin_edges_1)*(1-0.30)),\n",
    "         linewidth=1.5, \n",
    "         label=r'GMM_1: $\\alpha={}, \\beta={}$'.format(round(Beta_GMM_result_1.x[0],4),\n",
    "                                                    round(Beta_GMM_result_1.x[1],4)))\n",
    "plt.plot(bin_edges_1, \n",
    "         sp.stats.beta.pdf(bin_edges_1, a=Beta_MLE_result_1.x[0], b=Beta_MLE_result_1.x[1], loc=min(bin_edges_1)*(1-0.30)),\n",
    "         linewidth=1.5, \n",
    "         label=r'MLE_1: $\\alpha={}, \\beta={}$'.format(round(Beta_MLE_result_1.x[0],4),\n",
    "                                                    round(Beta_MLE_result_1.x[1],4)))\n",
    "plt.plot(bin_edges_2, \n",
    "         sp.stats.beta.pdf(bin_edges_2, Beta_GMM_result_2.x[0], Beta_GMM_result_2.x[1],loc=min(bin_edges_2)*(1-0.30)),\n",
    "         linewidth=1.5, \n",
    "         label=r'GMM_2: $\\alpha={}, \\beta={}$'.format(round(Beta_GMM_result_2.x[0],4),\n",
    "                                                    round(Beta_GMM_result_2.x[1],4)))\n",
    "plt.plot(bin_edges_2, \n",
    "         sp.stats.beta.pdf(bin_edges_2, a=Beta_MLE_result_2.x[0], b=Beta_MLE_result_2.x[1], loc=min(bin_edges_2)*(1-0.30)),\n",
    "         linewidth=1.5, \n",
    "         label=r'MLE_2: $\\alpha={}, \\beta={}$'.format(round(Beta_MLE_result_2.x[0],4),\n",
    "                                                    round(Beta_MLE_result_2.x[1],4)))\n",
    "density_count, density_bins, density_ignored = plt.hist(density_array, bins = bin_edges_1,\n",
    "                                                        density=True, edgecolor='k')\n",
    "plt.rcParams['figure.figsize'] = (9,6)\n",
    "plt.xlim([0,0.05])\n",
    "plt.xlabel('Expression Rate')\n",
    "plt.ylabel('Density')\n",
    "plt.legend()\n",
    "plt.savefig('estimation pictures/'+'beta estimation')\n",
    "plt.show()"
   ]
  },
  {
   "cell_type": "markdown",
   "metadata": {},
   "source": [
    "MLE_1 yields better results for the estimation of beta's parameter, using it as the given parameter values for the following SMM estimation."
   ]
  },
  {
   "cell_type": "code",
   "execution_count": 46,
   "metadata": {},
   "outputs": [
    {
     "data": {
      "text/plain": [
       "array([-0.02442171, -0.10672438, -0.05058903, -0.0041473 , -0.19895596,\n",
       "       -0.41707381, -0.04224451, -0.25331301,  0.09310206,  0.11354135])"
      ]
     },
     "execution_count": 46,
     "metadata": {},
     "output_type": "execute_result"
    }
   ],
   "source": [
    "np.mean(np.array(sample_0['AveOpinion']).reshape(10,60),axis=1)"
   ]
  },
  {
   "cell_type": "code",
   "execution_count": 47,
   "metadata": {},
   "outputs": [
    {
     "data": {
      "text/plain": [
       "array([0.15920555, 0.22494961, 0.1914122 , 0.20795414, 0.20141752,\n",
       "       0.1644643 , 0.19084625, 0.14604504, 0.1846159 , 0.17493586])"
      ]
     },
     "execution_count": 47,
     "metadata": {},
     "output_type": "execute_result"
    }
   ],
   "source": [
    "np.var(np.array(sample_0['AveOpinion']).reshape(10,60),axis=1)"
   ]
  },
  {
   "cell_type": "code",
   "execution_count": 50,
   "metadata": {},
   "outputs": [
    {
     "data": {
      "text/plain": [
       "array([0.37649168, 0.29556217, 0.20973131, 0.2304645 , 0.35920384,\n",
       "       0.24579874, 0.15716777, 0.31109615, 0.27485226, 0.21133944])"
      ]
     },
     "execution_count": 50,
     "metadata": {},
     "output_type": "execute_result"
    }
   ],
   "source": [
    "np.mean((np.array(sample_0['AveStd'])**2).reshape(10,60),axis=1)"
   ]
  },
  {
   "cell_type": "code",
   "execution_count": 51,
   "metadata": {},
   "outputs": [
    {
     "data": {
      "text/plain": [
       "array([0.4693254 , 0.38980159, 0.4625    , 0.52555556, 0.37361111,\n",
       "       0.2522102 , 0.46587963, 0.34131541, 0.51369048, 0.52728175])"
      ]
     },
     "execution_count": 51,
     "metadata": {},
     "output_type": "execute_result"
    }
   ],
   "source": [
    "np.mean(np.array(sample_0['PosRatio']).reshape(10,60),axis=1)"
   ]
  },
  {
   "cell_type": "code",
   "execution_count": 4,
   "metadata": {},
   "outputs": [],
   "source": [
    "#%%writefile replication.py\n",
    "# Seperate the replication for multiprocessing\n",
    "import numpy as np\n",
    "import scipy as sp\n",
    "import matplotlib.pyplot as plt\n",
    "from broadcastplatform import Platform\n",
    "\n",
    "def get_single_model_moments_2(bp):\n",
    "    moments = {}\n",
    "    ave_eo, var_eo = bp.AveExpressedSeries(show=False)\n",
    "    moments['ave_eo'] = np.mean(np.array(ave_eo).reshape(10,60),axis=1)\n",
    "    moments['var_eo'] = np.mean(np.array(var_eo).reshape(10,60),axis=1)\n",
    "    #moments['ave_eo_var'] = np.var(ave_eo.reshape(10,60),axis=1)\n",
    "    return moments\n",
    "\n",
    "def get_single_model_moments_3(bp):\n",
    "    moments = {}\n",
    "    ave_eo, var_eo = bp.AveExpressedSeries(show=False)\n",
    "    pr_eo = bp.PosRatioSeries(show=False)\n",
    "    moments['ave_eo'] = np.mean(np.array(ave_eo).reshape(10,60),axis=1)\n",
    "    moments['var_eo'] = np.mean(np.array(var_eo).reshape(10,60),axis=1)\n",
    "    #moments['ave_eo_var'] = np.var(ave_eo.reshape(10,60),axis=1)\n",
    "    #moments['express'] = bp.ExpressionRatioSeries(show=False) #only useful when p and beta needs to be re-estimated\n",
    "    moments['pos_ratio'] = np.mean(np.array(pr_eo).reshape(10,60),axis=1)\n",
    "    return moments\n",
    "\n",
    "def replicate_2(paras, draw, initials, te, p, beta_a, beta_b, p_mode, host_mode):\n",
    "    at,rt,ba,bm,bl,ps,ns,pi = paras\n",
    "    beta_draw = draw['beta_draw']\n",
    "    bernoulli_draw = draw['bernoulli_draw']\n",
    "    uniform_draw = draw['uniform_draw']\n",
    "    host_draw = draw['host_draw']\n",
    "    temp_bp = Platform(beta_draw, bernoulli_draw, uniform_draw, host_draw,\n",
    "                       at=at,rt=rt,ba=ba,bm=bm,bl=bl,ps=ps,ns=ns,pi=pi,\n",
    "                       beta_a=beta_a, beta_b=beta_b, p_mode=p_mode, host_mode=host_mode,\n",
    "                       te=te,p=p)\n",
    "    temp_bp.Evolution(initials)\n",
    "    return get_single_model_moments_2(temp_bp)\n",
    "\n",
    "def replicate_3(paras, draw, initials, te, p, beta_a, beta_b, p_mode, host_mode):\n",
    "    at,rt,ba,bm,bl,ps,ns,pi = paras\n",
    "    beta_draw = draw['beta_draw']\n",
    "    bernoulli_draw = draw['bernoulli_draw']\n",
    "    uniform_draw = draw['uniform_draw']\n",
    "    host_draw = draw['host_draw']\n",
    "    temp_bp = Platform(beta_draw, bernoulli_draw, uniform_draw, host_draw,\n",
    "                       at=at,rt=rt,ba=ba,bm=bm,bl=bl,ps=ps,ns=ns,pi=pi,\n",
    "                       beta_a=beta_a, beta_b=beta_b, p_mode=p_mode, host_mode=host_mode,\n",
    "                       te=te,p=p)\n",
    "    temp_bp.Evolution(initials)\n",
    "    return get_single_model_moments_3(temp_bp)"
   ]
  },
  {
   "cell_type": "code",
   "execution_count": 8,
   "metadata": {},
   "outputs": [],
   "source": [
    "import replication as rep\n",
    "\n",
    "def draw_generation(sample, s=10):\n",
    "    t = len(sample['AveOpinion'])\n",
    "    p = int(sample['Population'])\n",
    "    replication_draws = []\n",
    "    for i in range(s):\n",
    "        draws_dict = {}\n",
    "        draws_dict['beta_draw'] = sts.uniform.rvs(0,1,p)\n",
    "        draws_dict['bernoulli_draw'] = sts.uniform.rvs(0,1,[p,t])\n",
    "        draws_dict['uniform_draw'] = sts.uniform.rvs(0,1,p)\n",
    "        draws_dict['host_draw'] = sts.uniform.rvs(0,1,t)\n",
    "        replication_draws.append(draws_dict)\n",
    "    return replication_draws\n",
    "\n",
    "def SMM_data_moments_2(sample):\n",
    "    ave_eo = np.array(sample['AveOpinion'])\n",
    "    var_eo = np.array(sample['AveStd'])**2\n",
    "    m1 = np.mean(ave_eo.reshape(10,60),axis=1)\n",
    "    m2 = np.mean(var_eo.reshape(10,60),axis=1)\n",
    "    #m = np.var(ave_eo.reshape(10,60),axis=1) \n",
    "    #m3 = np.array(sample['ExpressionRatio'])\n",
    "    #m4 = np.array(sample['PosRatio'])\n",
    "    return (m1,m2)\n",
    "\n",
    "def SMM_data_moments_3(sample):\n",
    "    ave_eo = np.array(sample['AveOpinion'])\n",
    "    var_eo = np.array(sample['AveStd'])**2\n",
    "    pr_eo = np.array(sample['PosRatio'])\n",
    "    m1 = np.mean(ave_eo.reshape(10,60),axis=1)\n",
    "    m2 = np.mean(var_eo.reshape(10,60),axis=1)\n",
    "    m3 = np.mean(pr_eo.reshape(10,60),axis=1)\n",
    "    #m = np.var(ave_eo.reshape(10,60),axis=1) \n",
    "    #m4 = np.array(sample['ExpressionRatio'])\n",
    "    return (m1,m2,m3)\n",
    "\n",
    "def SMM_model_moments_2(paras, draws, sample, beta_a, beta_b, p_mode=1, host_mode='triang'):\n",
    "    p = int(sample['Population'])\n",
    "    te = len(sample['AveOpinion'])\n",
    "    initials = sample['StartOpinion']\n",
    "    rep_paras = [(paras, draw, initials, te, p, beta_a, beta_b, p_mode, host_mode) for draw in draws]\n",
    "    pool = mp.Pool()\n",
    "    moments_collection = list(pool.starmap(rep.replicate_2, rep_paras))\n",
    "    m1 = np.array([x['ave_eo'] for x in moments_collection])\n",
    "    m2 = np.array([x['var_eo'] for x in moments_collection])\n",
    "    #m3 = np.array([x['express'] for x in moments_collection])\n",
    "    #m4 = np.array([x['pos_ratio'] for x in moments_collection])\n",
    "    return np.array((m1,m2))\n",
    "\n",
    "def SMM_model_moments_3(paras, draws, sample, beta_a, beta_b, p_mode=1, host_mode='triang'):\n",
    "    p = int(sample['Population'])\n",
    "    te = len(sample['AveOpinion'])\n",
    "    initials = sample['StartOpinion']\n",
    "    rep_paras = [(paras, draw, initials, te, p, beta_a, beta_b, p_mode, host_mode) for draw in draws]\n",
    "    pool = mp.Pool()\n",
    "    moments_collection = list(pool.starmap(rep.replicate_3, rep_paras))\n",
    "    m1 = np.array([x['ave_eo'] for x in moments_collection])\n",
    "    m2 = np.array([x['var_eo'] for x in moments_collection])\n",
    "    m3 = np.array([x['pos_ratio'] for x in moments_collection])\n",
    "    #m4 = np.array([x['express'] for x in moments_collection])\n",
    "    return np.array((m1,m2,m3))\n",
    "\n",
    "def SMM_err_vec(data_moments, model_moments, err_mode):\n",
    "    if err_mode == 0:\n",
    "        ave_model_moments = np.mean(model_moments, axis=1)\n",
    "        data_moment_array = np.array(list(itertools.chain(*data_moments)))\n",
    "        ave_model_moment_array = np.array(list(itertools.chain(*ave_model_moments)))\n",
    "        err = data_moment_array - ave_model_moment_array\n",
    "    elif err_mode == 1:\n",
    "        ave_model_moments = np.mean(model_moments, axis=1)\n",
    "        data_moment_array = np.array(list(itertools.chain(*data_moments)))\n",
    "        ave_model_moment_array = np.array(list(itertools.chain(*ave_model_moments)))\n",
    "        err = (data_moment_array - ave_model_moment_array)/data_moment_array\n",
    "    return err\n",
    "\n",
    "def SMM_criterion_2(paras, *args):\n",
    "    draws, sample, beta_a, beta_b, p_mode, host_mode, err_mode, W = args\n",
    "    data_moments = SMM_data_moments_2(sample)\n",
    "    model_moments = SMM_model_moments_2(paras, draws, sample, beta_a, beta_b, p_mode, host_mode)\n",
    "    error = SMM_err_vec(data_moments, model_moments, err_mode)\n",
    "    return error.T @ W @ error\n",
    "\n",
    "def SMM_criterion_3(paras, *args):\n",
    "    draws, sample, beta_a, beta_b, p_mode, host_mode, err_mode, W = args\n",
    "    data_moments = SMM_data_moments_3(sample)\n",
    "    model_moments = SMM_model_moments_3(paras, draws, sample, beta_a, beta_b, p_mode, host_mode)\n",
    "    error = SMM_err_vec(data_moments, model_moments, err_mode)\n",
    "    return error.T @ W @ error"
   ]
  },
  {
   "cell_type": "code",
   "execution_count": 12,
   "metadata": {},
   "outputs": [],
   "source": [
    "# define comstraints for parameters\n",
    "from scipy.optimize import LinearConstraint\n",
    "SMM_constraints = LinearConstraint([[0,0,0,1,-1,0,0,0],[0,0,0,0,0,-1,1,-1]],[0,0],[1,1])"
   ]
  },
  {
   "cell_type": "code",
   "execution_count": null,
   "metadata": {},
   "outputs": [],
   "source": [
    "# building a grid for the initial parameters\n",
    "at_pool = np.linspace(0.1,0.9,5)\n",
    "rt_pool = np.linspace(1.0,2.0,5)\n",
    "ba_pool = np.linspace(0.5,0.9,4) \n",
    "bm_pool = np.linspace()\n",
    "bl_pool = np.linspace(0.1,)\n",
    "ps_pool = np.linspace()\n",
    "ns_pool = np.linspace()\n",
    "pi_pool = np.linspace()"
   ]
  },
  {
   "cell_type": "code",
   "execution_count": 26,
   "metadata": {},
   "outputs": [],
   "source": [
    "# generate draws\n",
    "s = 50\n",
    "test_draws = draw_generation(sample_0, s)"
   ]
  },
  {
   "cell_type": "code",
   "execution_count": 20,
   "metadata": {},
   "outputs": [
    {
     "data": {
      "text/plain": [
       "(20, 20)"
      ]
     },
     "execution_count": 20,
     "metadata": {},
     "output_type": "execute_result"
    }
   ],
   "source": [
    "# generate identity matrix\n",
    "W_identity = np.eye(2*10)\n",
    "W_identity.shape"
   ]
  },
  {
   "cell_type": "code",
   "execution_count": 15,
   "metadata": {
    "collapsed": true,
    "jupyter": {
     "outputs_hidden": true
    }
   },
   "outputs": [
    {
     "name": "stderr",
     "output_type": "stream",
     "text": [
      "Process ForkPoolWorker-1159:\n",
      "Process ForkPoolWorker-1212:\n",
      "Process ForkPoolWorker-1214:\n",
      "Process ForkPoolWorker-1206:\n",
      "Process ForkPoolWorker-1243:\n",
      "Process ForkPoolWorker-776:\n",
      "Process ForkPoolWorker-219:\n",
      "Process ForkPoolWorker-331:\n",
      "Process ForkPoolWorker-191:\n",
      "Process ForkPoolWorker-700:\n",
      "Process ForkPoolWorker-1223:\n",
      "Process ForkPoolWorker-1197:\n",
      "Process ForkPoolWorker-1261:\n",
      "Process ForkPoolWorker-1203:\n",
      "Process ForkPoolWorker-1152:\n",
      "Process ForkPoolWorker-539:\n",
      "Process ForkPoolWorker-990:\n",
      "Process ForkPoolWorker-125:\n",
      "Process ForkPoolWorker-1246:\n",
      "Process ForkPoolWorker-1294:\n",
      "Process ForkPoolWorker-135:\n",
      "Process ForkPoolWorker-1278:\n",
      "Process ForkPoolWorker-1274:\n",
      "Process ForkPoolWorker-815:\n",
      "Process ForkPoolWorker-1354:\n",
      "Process ForkPoolWorker-336:\n",
      "Process ForkPoolWorker-1147:\n",
      "Process ForkPoolWorker-751:\n",
      "Process ForkPoolWorker-953:\n",
      "Process ForkPoolWorker-1232:\n",
      "Process ForkPoolWorker-1373:\n",
      "Process ForkPoolWorker-671:\n",
      "Process ForkPoolWorker-1292:\n",
      "Process ForkPoolWorker-1313:\n",
      "Process ForkPoolWorker-1040:\n",
      "Process ForkPoolWorker-1140:\n",
      "Process ForkPoolWorker-1144:\n",
      "Process ForkPoolWorker-1155:\n",
      "Process ForkPoolWorker-1316:\n",
      "Process ForkPoolWorker-996:\n",
      "Process ForkPoolWorker-1254:\n",
      "Process ForkPoolWorker-1275:\n",
      "Process ForkPoolWorker-1335:\n",
      "Process ForkPoolWorker-1142:\n",
      "Process ForkPoolWorker-1068:\n",
      "Process ForkPoolWorker-1138:\n",
      "Process ForkPoolWorker-1156:\n",
      "Process ForkPoolWorker-601:\n",
      "Process ForkPoolWorker-1047:\n",
      "Process ForkPoolWorker-1375:\n",
      "Process ForkPoolWorker-1239:\n",
      "Process ForkPoolWorker-1007:\n",
      "Process ForkPoolWorker-1245:\n",
      "Process ForkPoolWorker-1324:\n",
      "Process ForkPoolWorker-1333:\n",
      "Process ForkPoolWorker-1227:\n",
      "Process ForkPoolWorker-1112:\n",
      "Process ForkPoolWorker-1154:\n",
      "Process ForkPoolWorker-1340:\n",
      "Process ForkPoolWorker-1456:\n",
      "Process ForkPoolWorker-1102:\n",
      "Process ForkPoolWorker-1179:\n",
      "Process ForkPoolWorker-142:\n",
      "Process ForkPoolWorker-1173:\n",
      "Process ForkPoolWorker-1216:\n",
      "Process ForkPoolWorker-528:\n",
      "Process ForkPoolWorker-1184:\n",
      "Process ForkPoolWorker-475:\n",
      "Process ForkPoolWorker-1318:\n",
      "Process ForkPoolWorker-1069:\n",
      "Process ForkPoolWorker-439:\n",
      "Process ForkPoolWorker-838:\n",
      "Process ForkPoolWorker-1055:\n",
      "Process ForkPoolWorker-1350:\n",
      "Process ForkPoolWorker-1153:\n",
      "Process ForkPoolWorker-1277:\n",
      "Process ForkPoolWorker-1359:\n",
      "Process ForkPoolWorker-1374:\n",
      "Process ForkPoolWorker-1141:\n",
      "Process ForkPoolWorker-1279:\n",
      "Process ForkPoolWorker-1238:\n",
      "Process ForkPoolWorker-1249:\n",
      "Process ForkPoolWorker-1305:\n",
      "Process ForkPoolWorker-1276:\n",
      "Process ForkPoolWorker-1187:\n",
      "Process ForkPoolWorker-1352:\n",
      "Process ForkPoolWorker-1038:\n",
      "Process ForkPoolWorker-1099:\n",
      "Process ForkPoolWorker-1124:\n",
      "Process ForkPoolWorker-1079:\n",
      "Process ForkPoolWorker-1308:\n",
      "Process ForkPoolWorker-1325:\n",
      "Process ForkPoolWorker-1180:\n",
      "Process ForkPoolWorker-1349:\n",
      "Process ForkPoolWorker-1208:\n",
      "Process ForkPoolWorker-1133:\n",
      "Process ForkPoolWorker-1110:\n",
      "Process ForkPoolWorker-1372:\n",
      "Process ForkPoolWorker-198:\n",
      "Process ForkPoolWorker-1344:\n",
      "Process ForkPoolWorker-1052:\n",
      "Process ForkPoolWorker-1157:\n",
      "Process ForkPoolWorker-1266:\n",
      "Process ForkPoolWorker-1298:\n",
      "Process ForkPoolWorker-222:\n",
      "Process ForkPoolWorker-152:\n",
      "Process ForkPoolWorker-437:\n",
      "Process ForkPoolWorker-816:\n",
      "Process ForkPoolWorker-774:\n",
      "Process ForkPoolWorker-847:\n",
      "Process ForkPoolWorker-915:\n",
      "Process ForkPoolWorker-681:\n",
      "Process ForkPoolWorker-984:\n",
      "Process ForkPoolWorker-207:\n",
      "Process ForkPoolWorker-1165:\n",
      "Process ForkPoolWorker-455:\n",
      "Process ForkPoolWorker-626:\n",
      "Process ForkPoolWorker-477:\n",
      "Process ForkPoolWorker-434:\n",
      "Process ForkPoolWorker-1439:\n",
      "Process ForkPoolWorker-1382:\n",
      "Process ForkPoolWorker-901:\n",
      "Process ForkPoolWorker-1386:\n",
      "Process ForkPoolWorker-852:\n",
      "Process ForkPoolWorker-253:\n",
      "Process ForkPoolWorker-413:\n",
      "Process ForkPoolWorker-560:\n",
      "Process ForkPoolWorker-723:\n",
      "Process ForkPoolWorker-734:\n",
      "Process ForkPoolWorker-813:\n",
      "Process ForkPoolWorker-862:\n",
      "Process ForkPoolWorker-631:\n",
      "Process ForkPoolWorker-673:\n",
      "Process ForkPoolWorker-744:\n",
      "Process ForkPoolWorker-405:\n",
      "Process ForkPoolWorker-725:\n",
      "Process ForkPoolWorker-898:\n",
      "Process ForkPoolWorker-759:\n",
      "Process ForkPoolWorker-140:\n",
      "Process ForkPoolWorker-1058:\n",
      "Process ForkPoolWorker-1397:\n",
      "Process ForkPoolWorker-231:\n",
      "Process ForkPoolWorker-430:\n",
      "Process ForkPoolWorker-512:\n",
      "Process ForkPoolWorker-952:\n",
      "Process ForkPoolWorker-352:\n",
      "Process ForkPoolWorker-914:\n",
      "Process ForkPoolWorker-457:\n",
      "Process ForkPoolWorker-1416:\n",
      "Process ForkPoolWorker-1421:\n",
      "Process ForkPoolWorker-766:\n",
      "Process ForkPoolWorker-985:\n",
      "Process ForkPoolWorker-1428:\n",
      "Process ForkPoolWorker-1436:\n",
      "Process ForkPoolWorker-356:\n",
      "Process ForkPoolWorker-411:\n",
      "Process ForkPoolWorker-836:\n",
      "Process ForkPoolWorker-1419:\n",
      "Process ForkPoolWorker-1423:\n",
      "Process ForkPoolWorker-520:\n",
      "Process ForkPoolWorker-90:\n",
      "Process ForkPoolWorker-637:\n",
      "Process ForkPoolWorker-939:\n",
      "Process ForkPoolWorker-392:\n",
      "Process ForkPoolWorker-323:\n",
      "Process ForkPoolWorker-1461:\n",
      "Process ForkPoolWorker-1395:\n",
      "Process ForkPoolWorker-1378:\n",
      "Process ForkPoolWorker-1380:\n",
      "Process ForkPoolWorker-658:\n",
      "Process ForkPoolWorker-1430:\n",
      "Process ForkPoolWorker-930:\n",
      "Process ForkPoolWorker-1401:\n",
      "Process ForkPoolWorker-1392:\n",
      "Process ForkPoolWorker-403:\n",
      "Process ForkPoolWorker-371:\n",
      "Process ForkPoolWorker-1417:\n",
      "Process ForkPoolWorker-1383:\n",
      "Process ForkPoolWorker-1460:\n",
      "Process ForkPoolWorker-1455:\n",
      "Process ForkPoolWorker-1452:\n",
      "Process ForkPoolWorker-1441:\n",
      "Process ForkPoolWorker-558:\n",
      "Process ForkPoolWorker-171:\n",
      "Process ForkPoolWorker-55:\n",
      "Process ForkPoolWorker-1219:\n",
      "Process ForkPoolWorker-446:\n",
      "Process ForkPoolWorker-395:\n",
      "Process ForkPoolWorker-1327:\n",
      "Process ForkPoolWorker-1086:\n",
      "Process ForkPoolWorker-1146:\n",
      "Process ForkPoolWorker-1293:\n",
      "Process ForkPoolWorker-1302:\n",
      "Process ForkPoolWorker-1290:\n",
      "Process ForkPoolWorker-1210:\n",
      "Process ForkPoolWorker-272:\n",
      "Process ForkPoolWorker-595:\n",
      "Process ForkPoolWorker-1339:\n",
      "Process ForkPoolWorker-1060:\n",
      "Process ForkPoolWorker-169:\n",
      "Process ForkPoolWorker-1075:\n",
      "Process ForkPoolWorker-220:\n",
      "Process ForkPoolWorker-1220:\n",
      "Process ForkPoolWorker-1107:\n",
      "Process ForkPoolWorker-502:\n",
      "Process ForkPoolWorker-1458:\n",
      "Process ForkPoolWorker-1390:\n",
      "Process ForkPoolWorker-568:\n",
      "Process ForkPoolWorker-536:\n",
      "Process ForkPoolWorker-168:\n",
      "Process ForkPoolWorker-128:\n",
      "Process ForkPoolWorker-113:\n",
      "Process ForkPoolWorker-991:\n",
      "Process ForkPoolWorker-146:\n",
      "Process ForkPoolWorker-456:\n",
      "Process ForkPoolWorker-157:\n",
      "Process ForkPoolWorker-1024:\n",
      "Process ForkPoolWorker-783:\n",
      "Process ForkPoolWorker-687:\n",
      "Process ForkPoolWorker-645:\n",
      "Process ForkPoolWorker-129:\n",
      "Process ForkPoolWorker-100:\n",
      "Process ForkPoolWorker-429:\n",
      "Process ForkPoolWorker-854:\n",
      "Process ForkPoolWorker-266:\n",
      "Process ForkPoolWorker-240:\n",
      "Process ForkPoolWorker-221:\n",
      "Process ForkPoolWorker-598:\n",
      "Process ForkPoolWorker-1178:\n",
      "Process ForkPoolWorker-1221:\n",
      "Process ForkPoolWorker-663:\n",
      "Process ForkPoolWorker-179:\n",
      "Process ForkPoolWorker-712:\n",
      "Process ForkPoolWorker-1330:\n",
      "Traceback (most recent call last):\n",
      "Traceback (most recent call last):\n",
      "Process ForkPoolWorker-1150:\n",
      "Process ForkPoolWorker-977:\n",
      "Process ForkPoolWorker-698:\n",
      "Process ForkPoolWorker-513:\n",
      "Process ForkPoolWorker-347:\n",
      "Process ForkPoolWorker-1248:\n",
      "Process ForkPoolWorker-1237:\n",
      "Process ForkPoolWorker-1073:\n",
      "Process ForkPoolWorker-1194:\n",
      "Process ForkPoolWorker-1002:\n",
      "Traceback (most recent call last):\n",
      "Traceback (most recent call last):\n",
      "Process ForkPoolWorker-67:\n",
      "Process ForkPoolWorker-530:\n",
      "Process ForkPoolWorker-819:\n",
      "Process ForkPoolWorker-900:\n",
      "Traceback (most recent call last):\n",
      "Process ForkPoolWorker-992:\n",
      "Process ForkPoolWorker-170:\n",
      "Traceback (most recent call last):\n",
      "Traceback (most recent call last):\n",
      "Traceback (most recent call last):\n",
      "Traceback (most recent call last):\n",
      "Traceback (most recent call last):\n",
      "Traceback (most recent call last):\n",
      "Traceback (most recent call last):\n",
      "Traceback (most recent call last):\n",
      "Traceback (most recent call last):\n",
      "Traceback (most recent call last):\n",
      "Process ForkPoolWorker-97:\n",
      "Traceback (most recent call last):\n",
      "Traceback (most recent call last):\n",
      "Traceback (most recent call last):\n",
      "Traceback (most recent call last):\n",
      "Process ForkPoolWorker-31:\n",
      "Process ForkPoolWorker-33:\n",
      "Process ForkPoolWorker-45:\n",
      "Process ForkPoolWorker-4:\n",
      "Process ForkPoolWorker-27:\n",
      "Process ForkPoolWorker-30:\n",
      "Process ForkPoolWorker-43:\n",
      "Process ForkPoolWorker-37:\n",
      "Process ForkPoolWorker-34:\n",
      "Process ForkPoolWorker-7:\n",
      "Traceback (most recent call last):\n",
      "Process ForkPoolWorker-48:\n",
      "Process ForkPoolWorker-46:\n",
      "Process ForkPoolWorker-36:\n",
      "Process ForkPoolWorker-25:\n",
      "  File \"/usr/local/python/miniconda/3.7.0/lib/python3.7/multiprocessing/process.py\", line 297, in _bootstrap\n",
      "    self.run()\n",
      "  File \"/usr/local/python/miniconda/3.7.0/lib/python3.7/multiprocessing/process.py\", line 297, in _bootstrap\n",
      "    self.run()\n",
      "  File \"/usr/local/python/miniconda/3.7.0/lib/python3.7/multiprocessing/process.py\", line 297, in _bootstrap\n",
      "    self.run()\n",
      "Process ForkPoolWorker-875:\n",
      "Traceback (most recent call last):\n",
      "Traceback (most recent call last):\n",
      "Traceback (most recent call last):\n",
      "  File \"/usr/local/python/miniconda/3.7.0/lib/python3.7/multiprocessing/process.py\", line 297, in _bootstrap\n",
      "    self.run()\n",
      "Traceback (most recent call last):\n",
      "  File \"/usr/local/python/miniconda/3.7.0/lib/python3.7/multiprocessing/process.py\", line 297, in _bootstrap\n",
      "    self.run()\n",
      "Traceback (most recent call last):\n",
      "Traceback (most recent call last):\n",
      "  File \"/usr/local/python/miniconda/3.7.0/lib/python3.7/multiprocessing/process.py\", line 297, in _bootstrap\n",
      "    self.run()\n",
      "Process ForkPoolWorker-32:\n",
      "  File \"/usr/local/python/miniconda/3.7.0/lib/python3.7/multiprocessing/process.py\", line 297, in _bootstrap\n",
      "    self.run()\n",
      "  File \"/usr/local/python/miniconda/3.7.0/lib/python3.7/multiprocessing/process.py\", line 297, in _bootstrap\n",
      "    self.run()\n",
      "  File \"/usr/local/python/miniconda/3.7.0/lib/python3.7/multiprocessing/process.py\", line 297, in _bootstrap\n",
      "    self.run()\n",
      "  File \"/usr/local/python/miniconda/3.7.0/lib/python3.7/multiprocessing/process.py\", line 297, in _bootstrap\n",
      "    self.run()\n",
      "  File \"/usr/local/python/miniconda/3.7.0/lib/python3.7/multiprocessing/process.py\", line 297, in _bootstrap\n",
      "    self.run()\n",
      "  File \"/usr/local/python/miniconda/3.7.0/lib/python3.7/multiprocessing/process.py\", line 297, in _bootstrap\n",
      "    self.run()\n",
      "Process ForkPoolWorker-118:\n",
      "  File \"/usr/local/python/miniconda/3.7.0/lib/python3.7/multiprocessing/process.py\", line 297, in _bootstrap\n",
      "    self.run()\n",
      "  File \"/usr/local/python/miniconda/3.7.0/lib/python3.7/multiprocessing/process.py\", line 297, in _bootstrap\n",
      "    self.run()\n",
      "  File \"/usr/local/python/miniconda/3.7.0/lib/python3.7/multiprocessing/process.py\", line 297, in _bootstrap\n",
      "    self.run()\n",
      "  File \"/usr/local/python/miniconda/3.7.0/lib/python3.7/multiprocessing/process.py\", line 297, in _bootstrap\n",
      "    self.run()\n",
      "  File \"/usr/local/python/miniconda/3.7.0/lib/python3.7/multiprocessing/process.py\", line 297, in _bootstrap\n",
      "    self.run()\n",
      "  File \"/usr/local/python/miniconda/3.7.0/lib/python3.7/multiprocessing/process.py\", line 297, in _bootstrap\n",
      "    self.run()\n",
      "Traceback (most recent call last):\n",
      "  File \"/usr/local/python/miniconda/3.7.0/lib/python3.7/multiprocessing/process.py\", line 297, in _bootstrap\n",
      "    self.run()\n",
      "Traceback (most recent call last):\n",
      "Traceback (most recent call last):\n",
      "Process ForkPoolWorker-22:\n",
      "Process ForkPoolWorker-14:\n",
      "Process ForkPoolWorker-9:\n",
      "Process ForkPoolWorker-28:\n",
      "Process ForkPoolWorker-40:\n",
      "Process ForkPoolWorker-42:\n",
      "Process ForkPoolWorker-47:\n",
      "Process ForkPoolWorker-41:\n",
      "Process ForkPoolWorker-15:\n",
      "Traceback (most recent call last):\n",
      "Traceback (most recent call last):\n",
      "Traceback (most recent call last):\n",
      "Traceback (most recent call last):\n",
      "  File \"/usr/local/python/miniconda/3.7.0/lib/python3.7/multiprocessing/process.py\", line 297, in _bootstrap\n",
      "    self.run()\n",
      "Traceback (most recent call last):\n",
      "  File \"/usr/local/python/miniconda/3.7.0/lib/python3.7/multiprocessing/process.py\", line 99, in run\n",
      "    self._target(*self._args, **self._kwargs)\n",
      "  File \"/usr/local/python/miniconda/3.7.0/lib/python3.7/multiprocessing/process.py\", line 99, in run\n",
      "    self._target(*self._args, **self._kwargs)\n",
      "  File \"/usr/local/python/miniconda/3.7.0/lib/python3.7/multiprocessing/process.py\", line 99, in run\n",
      "    self._target(*self._args, **self._kwargs)\n",
      "  File \"/usr/local/python/miniconda/3.7.0/lib/python3.7/multiprocessing/process.py\", line 297, in _bootstrap\n",
      "    self.run()\n",
      "  File \"/usr/local/python/miniconda/3.7.0/lib/python3.7/multiprocessing/process.py\", line 297, in _bootstrap\n",
      "    self.run()\n",
      "  File \"/usr/local/python/miniconda/3.7.0/lib/python3.7/multiprocessing/process.py\", line 297, in _bootstrap\n",
      "    self.run()\n",
      "  File \"/usr/local/python/miniconda/3.7.0/lib/python3.7/multiprocessing/process.py\", line 99, in run\n",
      "    self._target(*self._args, **self._kwargs)\n",
      "  File \"/usr/local/python/miniconda/3.7.0/lib/python3.7/multiprocessing/process.py\", line 297, in _bootstrap\n",
      "    self.run()\n",
      "  File \"/usr/local/python/miniconda/3.7.0/lib/python3.7/multiprocessing/process.py\", line 99, in run\n",
      "    self._target(*self._args, **self._kwargs)\n",
      "  File \"/usr/local/python/miniconda/3.7.0/lib/python3.7/multiprocessing/process.py\", line 297, in _bootstrap\n",
      "    self.run()\n",
      "  File \"/usr/local/python/miniconda/3.7.0/lib/python3.7/multiprocessing/process.py\", line 99, in run\n",
      "    self._target(*self._args, **self._kwargs)\n",
      "  File \"/usr/local/python/miniconda/3.7.0/lib/python3.7/multiprocessing/process.py\", line 297, in _bootstrap\n",
      "    self.run()\n",
      "  File \"/usr/local/python/miniconda/3.7.0/lib/python3.7/multiprocessing/process.py\", line 99, in run\n",
      "    self._target(*self._args, **self._kwargs)\n",
      "  File \"/usr/local/python/miniconda/3.7.0/lib/python3.7/multiprocessing/process.py\", line 99, in run\n",
      "    self._target(*self._args, **self._kwargs)\n",
      "  File \"/usr/local/python/miniconda/3.7.0/lib/python3.7/multiprocessing/process.py\", line 99, in run\n",
      "    self._target(*self._args, **self._kwargs)\n",
      "  File \"/usr/local/python/miniconda/3.7.0/lib/python3.7/multiprocessing/process.py\", line 99, in run\n",
      "    self._target(*self._args, **self._kwargs)\n",
      "  File \"/usr/local/python/miniconda/3.7.0/lib/python3.7/multiprocessing/process.py\", line 99, in run\n",
      "    self._target(*self._args, **self._kwargs)\n",
      "  File \"/usr/local/python/miniconda/3.7.0/lib/python3.7/multiprocessing/process.py\", line 99, in run\n",
      "    self._target(*self._args, **self._kwargs)\n",
      "  File \"/usr/local/python/miniconda/3.7.0/lib/python3.7/multiprocessing/process.py\", line 99, in run\n",
      "    self._target(*self._args, **self._kwargs)\n",
      "  File \"/usr/local/python/miniconda/3.7.0/lib/python3.7/multiprocessing/process.py\", line 99, in run\n",
      "    self._target(*self._args, **self._kwargs)\n",
      "  File \"/usr/local/python/miniconda/3.7.0/lib/python3.7/multiprocessing/process.py\", line 99, in run\n",
      "    self._target(*self._args, **self._kwargs)\n",
      "  File \"/usr/local/python/miniconda/3.7.0/lib/python3.7/multiprocessing/process.py\", line 99, in run\n",
      "    self._target(*self._args, **self._kwargs)\n",
      "  File \"/usr/local/python/miniconda/3.7.0/lib/python3.7/multiprocessing/process.py\", line 297, in _bootstrap\n",
      "    self.run()\n",
      "  File \"/usr/local/python/miniconda/3.7.0/lib/python3.7/multiprocessing/process.py\", line 99, in run\n",
      "    self._target(*self._args, **self._kwargs)\n",
      "  File \"/usr/local/python/miniconda/3.7.0/lib/python3.7/multiprocessing/process.py\", line 99, in run\n",
      "    self._target(*self._args, **self._kwargs)\n",
      "  File \"/usr/local/python/miniconda/3.7.0/lib/python3.7/multiprocessing/process.py\", line 297, in _bootstrap\n",
      "    self.run()\n",
      "  File \"/usr/local/python/miniconda/3.7.0/lib/python3.7/multiprocessing/process.py\", line 99, in run\n",
      "    self._target(*self._args, **self._kwargs)\n",
      "  File \"/usr/local/python/miniconda/3.7.0/lib/python3.7/multiprocessing/process.py\", line 297, in _bootstrap\n",
      "    self.run()\n",
      "  File \"/usr/local/python/miniconda/3.7.0/lib/python3.7/multiprocessing/process.py\", line 297, in _bootstrap\n",
      "    self.run()\n",
      "  File \"/usr/local/python/miniconda/3.7.0/lib/python3.7/multiprocessing/process.py\", line 297, in _bootstrap\n",
      "    self.run()\n",
      "  File \"/usr/local/python/miniconda/3.7.0/lib/python3.7/multiprocessing/process.py\", line 297, in _bootstrap\n",
      "    self.run()\n",
      "  File \"/usr/local/python/miniconda/3.7.0/lib/python3.7/multiprocessing/process.py\", line 99, in run\n",
      "    self._target(*self._args, **self._kwargs)\n",
      "  File \"/usr/local/python/miniconda/3.7.0/lib/python3.7/multiprocessing/process.py\", line 297, in _bootstrap\n",
      "    self.run()\n",
      "  File \"/usr/local/python/miniconda/3.7.0/lib/python3.7/multiprocessing/pool.py\", line 110, in worker\n",
      "    task = get()\n",
      "  File \"/usr/local/python/miniconda/3.7.0/lib/python3.7/multiprocessing/process.py\", line 297, in _bootstrap\n",
      "    self.run()\n",
      "  File \"/usr/local/python/miniconda/3.7.0/lib/python3.7/multiprocessing/pool.py\", line 110, in worker\n",
      "    task = get()\n",
      "  File \"/usr/local/python/miniconda/3.7.0/lib/python3.7/multiprocessing/pool.py\", line 110, in worker\n",
      "    task = get()\n",
      "  File \"/usr/local/python/miniconda/3.7.0/lib/python3.7/multiprocessing/process.py\", line 99, in run\n",
      "    self._target(*self._args, **self._kwargs)\n",
      "  File \"/usr/local/python/miniconda/3.7.0/lib/python3.7/multiprocessing/process.py\", line 99, in run\n",
      "    self._target(*self._args, **self._kwargs)\n",
      "  File \"/usr/local/python/miniconda/3.7.0/lib/python3.7/multiprocessing/process.py\", line 99, in run\n",
      "    self._target(*self._args, **self._kwargs)\n",
      "  File \"/usr/local/python/miniconda/3.7.0/lib/python3.7/multiprocessing/pool.py\", line 110, in worker\n",
      "    task = get()\n",
      "  File \"/usr/local/python/miniconda/3.7.0/lib/python3.7/multiprocessing/pool.py\", line 110, in worker\n",
      "    task = get()\n",
      "  File \"/usr/local/python/miniconda/3.7.0/lib/python3.7/multiprocessing/process.py\", line 99, in run\n",
      "    self._target(*self._args, **self._kwargs)\n",
      "  File \"/usr/local/python/miniconda/3.7.0/lib/python3.7/multiprocessing/pool.py\", line 110, in worker\n",
      "    task = get()\n",
      "  File \"/usr/local/python/miniconda/3.7.0/lib/python3.7/multiprocessing/pool.py\", line 110, in worker\n",
      "    task = get()\n",
      "  File \"/usr/local/python/miniconda/3.7.0/lib/python3.7/multiprocessing/process.py\", line 99, in run\n",
      "    self._target(*self._args, **self._kwargs)\n",
      "  File \"/usr/local/python/miniconda/3.7.0/lib/python3.7/multiprocessing/pool.py\", line 110, in worker\n",
      "    task = get()\n",
      "  File \"/usr/local/python/miniconda/3.7.0/lib/python3.7/multiprocessing/process.py\", line 99, in run\n",
      "    self._target(*self._args, **self._kwargs)\n",
      "Traceback (most recent call last):\n",
      "Traceback (most recent call last):\n",
      "Traceback (most recent call last):\n",
      "Traceback (most recent call last):\n",
      "Traceback (most recent call last):\n",
      "Traceback (most recent call last):\n",
      "Traceback (most recent call last):\n",
      "Traceback (most recent call last):\n",
      "Traceback (most recent call last):\n",
      "Traceback (most recent call last):\n",
      "  File \"/usr/local/python/miniconda/3.7.0/lib/python3.7/multiprocessing/pool.py\", line 110, in worker\n",
      "    task = get()\n",
      "  File \"/usr/local/python/miniconda/3.7.0/lib/python3.7/multiprocessing/pool.py\", line 110, in worker\n",
      "    task = get()\n",
      "Traceback (most recent call last):\n",
      "  File \"/usr/local/python/miniconda/3.7.0/lib/python3.7/multiprocessing/pool.py\", line 110, in worker\n",
      "    task = get()\n",
      "  File \"/usr/local/python/miniconda/3.7.0/lib/python3.7/multiprocessing/pool.py\", line 110, in worker\n",
      "    task = get()\n",
      "Traceback (most recent call last):\n",
      "Traceback (most recent call last):\n",
      "  File \"/usr/local/python/miniconda/3.7.0/lib/python3.7/multiprocessing/pool.py\", line 110, in worker\n",
      "    task = get()\n",
      "  File \"/usr/local/python/miniconda/3.7.0/lib/python3.7/multiprocessing/pool.py\", line 110, in worker\n",
      "    task = get()\n",
      "Traceback (most recent call last):\n",
      "Traceback (most recent call last):\n",
      "Traceback (most recent call last):\n",
      "Traceback (most recent call last):\n",
      "Traceback (most recent call last):\n",
      "Traceback (most recent call last):\n",
      "  File \"/usr/local/python/miniconda/3.7.0/lib/python3.7/multiprocessing/pool.py\", line 110, in worker\n",
      "    task = get()\n",
      "Traceback (most recent call last):\n",
      "  File \"/usr/local/python/miniconda/3.7.0/lib/python3.7/multiprocessing/pool.py\", line 110, in worker\n",
      "    task = get()\n",
      "Traceback (most recent call last):\n",
      "Traceback (most recent call last):\n",
      "Traceback (most recent call last):\n",
      "Traceback (most recent call last):\n",
      "Traceback (most recent call last):\n",
      "  File \"/usr/local/python/miniconda/3.7.0/lib/python3.7/multiprocessing/pool.py\", line 110, in worker\n",
      "    task = get()\n",
      "Traceback (most recent call last):\n"
     ]
    }
   ],
   "source": [
    "para_inits = (0.5,1.5,0.8,0.75,0.0,0.5,0.9,0.3)\n",
    "SMM_result_local_1 = sp.optimize.minimize(SMM_criterion_2, para_inits, \n",
    "                                  args = (test_draws, sample_0, Beta_MLE_result_1.x[0], Beta_MLE_result_1.x[1], 1, 'triang', 1, W_identity), \n",
    "                                  options={'maxiter':2000}, method=\"SLSQP\",constraints=SMM_constraints,\n",
    "                                  bounds=[(1e-10, 1-(1e-10)),(1+1e-10,2-(1e-10)),(1e-10, 1-(1e-10)),\n",
    "                                          ((-1+1e-10), 1),((-1+1e-10), 1),\n",
    "                                          (1e-10, 1-(1e-10)),(1e-10, 1-(1e-10)),(1e-10, 1-(1e-10))])\n",
    "SMM_result_local_1"
   ]
  },
  {
   "cell_type": "code",
   "execution_count": 33,
   "metadata": {},
   "outputs": [],
   "source": [
    "shgo_constraint_1 = {'type':'ineq','fun': lambda x:(x[3]-x[4])}\n",
    "shgo_constraint_2 = {'type':'ineq','fun': lambda x:(x[6]-x[5]-x[7])}\n",
    "\n",
    "# looking for the global optimal value using shgo\n",
    "SMM_result_shgo_1 = sp.optimize.shgo(func=SMM_criterion_2, \n",
    "                              bounds=[(1e-10, 1-(1e-10)),(1+1e-10,2-(1e-10)),(1e-10, 1-(1e-10)),\n",
    "                                      ((-1+1e-10), 1),((-1+1e-10), 1),\n",
    "                                      (1e-10, 1-(1e-10)),(1e-10, 1-(1e-10)),(1e-10, 1-(1e-10))],\n",
    "                              args = (test_draws, sample_0, Beta_MLE_result_1.x[0], Beta_MLE_result_1.x[1], 1, 'triang', 1, W_identity), \n",
    "                              options={'maxiter':2000}, \n",
    "                              constraints=[shgo_constraint_1,shgo_constraint_2]\n",
    "                             )\n",
    "SMM_result_shgo_1"
   ]
  },
  {
   "cell_type": "code",
   "execution_count": null,
   "metadata": {},
   "outputs": [],
   "source": [
    "# looking for the global optimal value using DE\n",
    "SMM_result_DE_1 = sp.optimize.differential_evolution(func=SMM_criterion_2, \n",
    "                              bounds=[(1e-10, 1-(1e-10)),(1+1e-10,2-(1e-10)),(1e-10, 1-(1e-10)),\n",
    "                                      ((-1+1e-10), 1),((-1+1e-10), 1),\n",
    "                                      (1e-10, 1-(1e-10)),(1e-10, 1-(1e-10)),(1e-10, 1-(1e-10))],\n",
    "                              args = (test_draws, sample_0, Beta_MLE_result_1.x[0], Beta_MLE_result_1.x[1], 1, 'triang', 1, W_identity), \n",
    "                              maxiter = 2000, \n",
    "                              constraints=SMM_constraints\n",
    "                             )\n",
    "SMM_result_DE_1"
   ]
  },
  {
   "cell_type": "code",
   "execution_count": 16,
   "metadata": {},
   "outputs": [],
   "source": [
    "def SMM_Jac_matrix_2(paras, draws, sample, beta_a, beta_b, p_mode, host_mode, err_mode):\n",
    "    h = 1e-8\n",
    "    data_moments = SMM_data_moments_2(sample)\n",
    "    moments_n = sum([len(m) for m in data_moments])\n",
    "    Jac_matrix = np.zeros((moments_n, len(paras)))\n",
    "    for i in range(len(paras)):\n",
    "        temp_paras_up = list(paras)\n",
    "        temp_paras_up[i] *= (1+h)\n",
    "        up_model_moments = SMM_model_moments_2(temp_paras_up, draws, sample, beta_a, beta_b, p_mode, host_mode)\n",
    "        temp_paras_down = list(paras)\n",
    "        temp_paras_down[i] *= (1-h)\n",
    "        down_model_moments = SMM_model_moments_2(temp_paras_down, draws, sample, beta_a, beta_b, p_mode, host_mode)\n",
    "        Jac_matrix[:,i] = (SMM_err_vec(data_moments, up_model_moments, err_mode) -\\\n",
    "                           SMM_err_vec(data_moments, down_model_moments, err_mode))/(2*h*paras[i])\n",
    "    return Jac_matrix"
   ]
  },
  {
   "cell_type": "code",
   "execution_count": null,
   "metadata": {},
   "outputs": [],
   "source": [
    "identity_diff_err = SMM_Jac_matrix_2(SMM_result_local_1.x, test_draws, sample_0, Beta_MLE_result_1.x[0], Beta_MLE_result_1.x[1], 1, 'triang', 1)\n",
    "identity_std_matrix = (1/10) * np.linalg.inv(identity_diff_err.T @ W_identity @ identity_diff_err)\n",
    "print(identity_std_matrix)"
   ]
  },
  {
   "cell_type": "code",
   "execution_count": null,
   "metadata": {},
   "outputs": [],
   "source": [
    "# construct the error matrix for the second weighting matrix estimation\n",
    "def SMM_err_matrix_2(paras, draws, sample, beta_a, beta_b, p_mode, host_mode, err_mode):\n",
    "    data_moments = SMM_data_moments_2(sample)\n",
    "    model_moments = SMM_model_moments_2(paras, draws, sample, beta_a, beta_b, p_mode, host_mode)\n",
    "    error_matrix = []\n",
    "    if err_mode == 0:\n",
    "        data_moment_array = np.array(list(itertools.chain(*data_moments)))\n",
    "        for i in range(len(model_moments[0])):\n",
    "            model_moment_array = np.array(list(itertools.chain(*model_moments[:,i])))\n",
    "            error_matrix.append(model_moment_array-data_moment_array)\n",
    "    elif err_mode == 1:\n",
    "        data_moment_array = np.array(list(itertools.chain(*data_moments)))\n",
    "        for i in range(len(model_moments[0])):\n",
    "            model_moment_array = np.array(list(itertools.chain(*model_moments[:,i])))\n",
    "            error_matrix.append((model_moment_array-data_moment_array)/data_moment_array)\n",
    "    return np.array(error_matrix)\n",
    "\n",
    "# calculate the two-step optimal weighting matrix\n",
    "SMM_err_matrix = SMM_err_matrix_2(SMM_result_local_1.x, test_draws, sample_0, Beta_MLE_result.x[0], Beta_MLE_result.x[1], 1, 'triang', 2)\n",
    "SMM_VCV = (1/SMM_err_matrix.shape[0])*(SMM_err_matrix.T @ SMM_err_matrix)\n",
    "W_2step = np.linalg.inv(SMM_VCV)\n",
    "W_2step"
   ]
  },
  {
   "cell_type": "code",
   "execution_count": null,
   "metadata": {},
   "outputs": [],
   "source": [
    "SMM_result_local_2 = sp.optimize.minimize(SMM_criterion_2, SMM_result_local_1.x, \n",
    "                                  args = (test_draws, sample_0, Beta_MLE_result_1.x[0], Beta_MLE_result_1.x[1], 1, 'triang', 1, W_2step), \n",
    "                                  options={'maxiter':2000}, method=\"SLSQP\",constraints=SMM_constraints,\n",
    "                                  bounds=[(1e-10, 1-(1e-10)),(1+1e-10,2-(1e-10)),(1e-10, 1-(1e-10)),\n",
    "                                          ((-1+1e-10), 1),((-1+1e-10), 1),\n",
    "                                          (1e-10, 1-(1e-10)),(1e-10, 1-(1e-10)),(1e-10, 1-(1e-10))])\n",
    "SMM_result_local_2"
   ]
  },
  {
   "cell_type": "code",
   "execution_count": 11,
   "metadata": {},
   "outputs": [],
   "source": [
    "import pyabc\n",
    "\n",
    "history = pyabc.History(\"sqlite:///estimation.db\")"
   ]
  },
  {
   "cell_type": "code",
   "execution_count": 13,
   "metadata": {},
   "outputs": [
    {
     "name": "stdout",
     "output_type": "stream",
     "text": [
      "{'at': (0.4031094078960007, 0.09415061306485373), 'ba': (0.31031977275165473, 0.32251897560434445), 'bl': (-0.3683471793011184, 0.43069782373766796), 'bm': (0.23941629383902313, 0.46491970510848113), 'pi': (0.18400479782818133, 0.14005914214511286), 'ps': (0.24899543348828165, 0.18934808900825545), 'rt': (1.1663005852416355, 0.07587230310748301)}\n"
     ]
    },
    {
     "data": {
      "image/png": "[encoded data removed]",
      "text/plain": [
       "<Figure size 1440x576 with 7 Axes>"
      ]
     },
     "metadata": {
      "needs_background": "light"
     },
     "output_type": "display_data"
    }
   ],
   "source": [
    "import math\n",
    "conversion={'at':r'$d_1$','rt':r'$d_2$',\n",
    "            'ba':r'$b$','bl':r'$l$','bm':r'$m$',\n",
    "            'ps':r'$k_P$','pi':r'$c$'}\n",
    "df, w = history.get_distribution(m=0)\n",
    "result={}\n",
    "n_paras = len(df.columns)\n",
    "fig = plt.figure(figsize=[20,8]) \n",
    "for index in range(n_paras):\n",
    "    i = df.columns[index]\n",
    "    weighted_ave = np.average(df[i],weights=w)\n",
    "    weighted_var = np.average((np.array(df[i])-weighted_ave)**2,weights=w)\n",
    "    result[i]=(weighted_ave, weighted_var**0.5)\n",
    "    ax = fig.add_subplot(math.ceil(n_paras/4),4,index+1)\n",
    "    pyabc.visualization.plot_kde_1d_highlevel(history, x=i, ax=ax)\n",
    "    ax.set_xlabel(conversion[i])\n",
    "print(result)\n",
    "plt.savefig('estimation pictures/'+'SMM-ABC estimation')\n",
    "plt.show()"
   ]
  },
  {
   "cell_type": "code",
   "execution_count": 14,
   "metadata": {},
   "outputs": [
    {
     "data": {
      "text/plain": [
       "{'at': (0.4031094078960007, 0.09415061306485373),\n",
       " 'ba': (0.31031977275165473, 0.32251897560434445),\n",
       " 'bl': (-0.3683471793011184, 0.43069782373766796),\n",
       " 'bm': (0.23941629383902313, 0.46491970510848113),\n",
       " 'pi': (0.18400479782818133, 0.14005914214511286),\n",
       " 'ps': (0.24899543348828165, 0.18934808900825545),\n",
       " 'rt': (1.1663005852416355, 0.07587230310748301)}"
      ]
     },
     "execution_count": 14,
     "metadata": {},
     "output_type": "execute_result"
    }
   ],
   "source": [
    "result"
   ]
  },
  {
   "cell_type": "code",
   "execution_count": 27,
   "metadata": {},
   "outputs": [
    {
     "data": {
      "text/plain": [
       "0.32007504520513896"
      ]
     },
     "execution_count": 27,
     "metadata": {},
     "output_type": "execute_result"
    }
   ],
   "source": [
    "paras = (result['at'][0],result['rt'][0],result['ba'][0],result['bm'][0],result['bl'][0],result['ps'][0],1.0,result['pi'][0])\n",
    "SMM_criterion_2(paras, test_draws, sample_0, Beta_MLE_result_1.x[0], Beta_MLE_result_1.x[1], 1, 'triang', 0, W_identity)"
   ]
  }
 ],
 "metadata": {
  "kernelspec": {
   "display_name": "Python 3",
   "language": "python",
   "name": "python3"
  },
  "language_info": {
   "codemirror_mode": {
    "name": "ipython",
    "version": 3
   },
   "file_extension": ".py",
   "mimetype": "text/x-python",
   "name": "python",
   "nbconvert_exporter": "python",
   "pygments_lexer": "ipython3",
   "version": "3.7.3"
  }
 },
 "nbformat": 4,
 "nbformat_minor": 4
}
